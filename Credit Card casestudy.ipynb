{
 "cells": [
  {
   "cell_type": "code",
   "execution_count": 1,
   "id": "51a92d57",
   "metadata": {
    "ExecuteTime": {
     "end_time": "2024-06-30T15:52:26.899835Z",
     "start_time": "2024-06-30T15:51:41.349931Z"
    }
   },
   "outputs": [],
   "source": [
    "import pandas as pd\n",
    "import numpy as np\n",
    "import matplotlib.pyplot as plt\n",
    "import seaborn as sns\n",
    "%matplotlib inline"
   ]
  },
  {
   "cell_type": "code",
   "execution_count": 2,
   "id": "76e0ba9c",
   "metadata": {
    "ExecuteTime": {
     "end_time": "2024-06-30T15:52:27.437264Z",
     "start_time": "2024-06-30T15:52:26.904451Z"
    }
   },
   "outputs": [],
   "source": [
    "customer = pd.read_csv('Customer Acqusition.csv',usecols=[\"Customer\",\"Age\",\"City\",\"Product\",\"Limit\",\"Company\",\"Segment\"])\n",
    "repay = pd.read_csv('Repayment.csv',usecols = [\"Customer\",\"Month\",\"Amount\"])\n",
    "spend = pd.read_csv('spend.csv',usecols=[\"Customer\",\"Month\",\"Type\",\"Amount\"])"
   ]
  },
  {
   "cell_type": "code",
   "execution_count": 3,
   "id": "6692dbec",
   "metadata": {
    "ExecuteTime": {
     "end_time": "2024-06-30T15:52:27.814152Z",
     "start_time": "2024-06-30T15:52:27.440264Z"
    }
   },
   "outputs": [
    {
     "data": {
      "text/html": [
       "<div>\n",
       "<style scoped>\n",
       "    .dataframe tbody tr th:only-of-type {\n",
       "        vertical-align: middle;\n",
       "    }\n",
       "\n",
       "    .dataframe tbody tr th {\n",
       "        vertical-align: top;\n",
       "    }\n",
       "\n",
       "    .dataframe thead th {\n",
       "        text-align: right;\n",
       "    }\n",
       "</style>\n",
       "<table border=\"1\" class=\"dataframe\">\n",
       "  <thead>\n",
       "    <tr style=\"text-align: right;\">\n",
       "      <th></th>\n",
       "      <th>Customer</th>\n",
       "      <th>Age</th>\n",
       "      <th>City</th>\n",
       "      <th>Product</th>\n",
       "      <th>Limit</th>\n",
       "      <th>Company</th>\n",
       "      <th>Segment</th>\n",
       "    </tr>\n",
       "  </thead>\n",
       "  <tbody>\n",
       "    <tr>\n",
       "      <th>0</th>\n",
       "      <td>A1</td>\n",
       "      <td>76</td>\n",
       "      <td>BANGALORE</td>\n",
       "      <td>Gold</td>\n",
       "      <td>500000.0</td>\n",
       "      <td>C1</td>\n",
       "      <td>Self Employed</td>\n",
       "    </tr>\n",
       "    <tr>\n",
       "      <th>1</th>\n",
       "      <td>A2</td>\n",
       "      <td>71</td>\n",
       "      <td>CALCUTTA</td>\n",
       "      <td>Silver</td>\n",
       "      <td>100000.0</td>\n",
       "      <td>C2</td>\n",
       "      <td>Salaried_MNC</td>\n",
       "    </tr>\n",
       "    <tr>\n",
       "      <th>2</th>\n",
       "      <td>A3</td>\n",
       "      <td>34</td>\n",
       "      <td>COCHIN</td>\n",
       "      <td>Platimum</td>\n",
       "      <td>10000.0</td>\n",
       "      <td>C3</td>\n",
       "      <td>Salaried_Pvt</td>\n",
       "    </tr>\n",
       "    <tr>\n",
       "      <th>3</th>\n",
       "      <td>A4</td>\n",
       "      <td>47</td>\n",
       "      <td>BOMBAY</td>\n",
       "      <td>Platimum</td>\n",
       "      <td>10001.0</td>\n",
       "      <td>C4</td>\n",
       "      <td>Govt</td>\n",
       "    </tr>\n",
       "    <tr>\n",
       "      <th>4</th>\n",
       "      <td>A5</td>\n",
       "      <td>56</td>\n",
       "      <td>BANGALORE</td>\n",
       "      <td>Platimum</td>\n",
       "      <td>10002.0</td>\n",
       "      <td>C5</td>\n",
       "      <td>Normal Salary</td>\n",
       "    </tr>\n",
       "  </tbody>\n",
       "</table>\n",
       "</div>"
      ],
      "text/plain": [
       "  Customer  Age       City   Product     Limit Company        Segment\n",
       "0       A1   76  BANGALORE      Gold  500000.0      C1  Self Employed\n",
       "1       A2   71   CALCUTTA    Silver  100000.0      C2   Salaried_MNC\n",
       "2       A3   34     COCHIN  Platimum   10000.0      C3   Salaried_Pvt\n",
       "3       A4   47     BOMBAY  Platimum   10001.0      C4           Govt\n",
       "4       A5   56  BANGALORE  Platimum   10002.0      C5  Normal Salary"
      ]
     },
     "execution_count": 3,
     "metadata": {},
     "output_type": "execute_result"
    }
   ],
   "source": [
    "customer.head()"
   ]
  },
  {
   "cell_type": "code",
   "execution_count": 4,
   "id": "692d29de",
   "metadata": {
    "ExecuteTime": {
     "end_time": "2024-06-30T15:52:29.388362Z",
     "start_time": "2024-06-30T15:52:27.820136Z"
    }
   },
   "outputs": [
    {
     "ename": "AttributeError",
     "evalue": "'Series' object has no attribute 'valuve_count'",
     "output_type": "error",
     "traceback": [
      "\u001b[1;31m---------------------------------------------------------------------------\u001b[0m",
      "\u001b[1;31mAttributeError\u001b[0m                            Traceback (most recent call last)",
      "\u001b[1;32m~\\AppData\\Local\\Temp\\ipykernel_10232\\242983316.py\u001b[0m in \u001b[0;36m<module>\u001b[1;34m\u001b[0m\n\u001b[1;32m----> 1\u001b[1;33m \u001b[0mcustomer\u001b[0m\u001b[1;33m[\u001b[0m\u001b[1;34m\"Segment\"\u001b[0m\u001b[1;33m]\u001b[0m\u001b[1;33m.\u001b[0m\u001b[0mvaluve_count\u001b[0m\u001b[1;33m\u001b[0m\u001b[1;33m\u001b[0m\u001b[0m\n\u001b[0m",
      "\u001b[1;32m~\\Newfolder\\lib\\site-packages\\pandas\\core\\generic.py\u001b[0m in \u001b[0;36m__getattr__\u001b[1;34m(self, name)\u001b[0m\n\u001b[0;32m   5573\u001b[0m         ):\n\u001b[0;32m   5574\u001b[0m             \u001b[1;32mreturn\u001b[0m \u001b[0mself\u001b[0m\u001b[1;33m[\u001b[0m\u001b[0mname\u001b[0m\u001b[1;33m]\u001b[0m\u001b[1;33m\u001b[0m\u001b[1;33m\u001b[0m\u001b[0m\n\u001b[1;32m-> 5575\u001b[1;33m         \u001b[1;32mreturn\u001b[0m \u001b[0mobject\u001b[0m\u001b[1;33m.\u001b[0m\u001b[0m__getattribute__\u001b[0m\u001b[1;33m(\u001b[0m\u001b[0mself\u001b[0m\u001b[1;33m,\u001b[0m \u001b[0mname\u001b[0m\u001b[1;33m)\u001b[0m\u001b[1;33m\u001b[0m\u001b[1;33m\u001b[0m\u001b[0m\n\u001b[0m\u001b[0;32m   5576\u001b[0m \u001b[1;33m\u001b[0m\u001b[0m\n\u001b[0;32m   5577\u001b[0m     \u001b[1;32mdef\u001b[0m \u001b[0m__setattr__\u001b[0m\u001b[1;33m(\u001b[0m\u001b[0mself\u001b[0m\u001b[1;33m,\u001b[0m \u001b[0mname\u001b[0m\u001b[1;33m:\u001b[0m \u001b[0mstr\u001b[0m\u001b[1;33m,\u001b[0m \u001b[0mvalue\u001b[0m\u001b[1;33m)\u001b[0m \u001b[1;33m->\u001b[0m \u001b[1;32mNone\u001b[0m\u001b[1;33m:\u001b[0m\u001b[1;33m\u001b[0m\u001b[1;33m\u001b[0m\u001b[0m\n",
      "\u001b[1;31mAttributeError\u001b[0m: 'Series' object has no attribute 'valuve_count'"
     ]
    }
   ],
   "source": [
    "customer[\"Segment\"].valuve_count\n"
   ]
  },
  {
   "cell_type": "code",
   "execution_count": null,
   "id": "887e2d88",
   "metadata": {
    "ExecuteTime": {
     "end_time": "2024-05-18T04:42:25.277495Z",
     "start_time": "2024-05-18T04:42:25.277495Z"
    }
   },
   "outputs": [],
   "source": [
    "repay.head()"
   ]
  },
  {
   "cell_type": "code",
   "execution_count": 5,
   "id": "5158f289",
   "metadata": {
    "ExecuteTime": {
     "end_time": "2023-07-30T12:19:53.400106Z",
     "start_time": "2023-07-30T12:19:53.052811Z"
    }
   },
   "outputs": [
    {
     "data": {
      "text/html": [
       "<div>\n",
       "<style scoped>\n",
       "    .dataframe tbody tr th:only-of-type {\n",
       "        vertical-align: middle;\n",
       "    }\n",
       "\n",
       "    .dataframe tbody tr th {\n",
       "        vertical-align: top;\n",
       "    }\n",
       "\n",
       "    .dataframe thead th {\n",
       "        text-align: right;\n",
       "    }\n",
       "</style>\n",
       "<table border=\"1\" class=\"dataframe\">\n",
       "  <thead>\n",
       "    <tr style=\"text-align: right;\">\n",
       "      <th></th>\n",
       "      <th>Customer</th>\n",
       "      <th>Month</th>\n",
       "      <th>Type</th>\n",
       "      <th>Amount</th>\n",
       "    </tr>\n",
       "  </thead>\n",
       "  <tbody>\n",
       "    <tr>\n",
       "      <th>0</th>\n",
       "      <td>A1</td>\n",
       "      <td>12-Jan-04</td>\n",
       "      <td>JEWELLERY</td>\n",
       "      <td>485470.80</td>\n",
       "    </tr>\n",
       "    <tr>\n",
       "      <th>1</th>\n",
       "      <td>A1</td>\n",
       "      <td>3-Jan-04</td>\n",
       "      <td>PETRO</td>\n",
       "      <td>410556.13</td>\n",
       "    </tr>\n",
       "    <tr>\n",
       "      <th>2</th>\n",
       "      <td>A1</td>\n",
       "      <td>15-Jan-04</td>\n",
       "      <td>CLOTHES</td>\n",
       "      <td>23740.46</td>\n",
       "    </tr>\n",
       "    <tr>\n",
       "      <th>3</th>\n",
       "      <td>A1</td>\n",
       "      <td>25-Jan-04</td>\n",
       "      <td>FOOD</td>\n",
       "      <td>484342.47</td>\n",
       "    </tr>\n",
       "    <tr>\n",
       "      <th>4</th>\n",
       "      <td>A1</td>\n",
       "      <td>17-Jan-05</td>\n",
       "      <td>CAMERA</td>\n",
       "      <td>369694.07</td>\n",
       "    </tr>\n",
       "  </tbody>\n",
       "</table>\n",
       "</div>"
      ],
      "text/plain": [
       "  Customer      Month       Type     Amount\n",
       "0       A1  12-Jan-04  JEWELLERY  485470.80\n",
       "1       A1   3-Jan-04      PETRO  410556.13\n",
       "2       A1  15-Jan-04    CLOTHES   23740.46\n",
       "3       A1  25-Jan-04       FOOD  484342.47\n",
       "4       A1  17-Jan-05     CAMERA  369694.07"
      ]
     },
     "execution_count": 5,
     "metadata": {},
     "output_type": "execute_result"
    }
   ],
   "source": [
    "spend.head()"
   ]
  },
  {
   "cell_type": "code",
   "execution_count": 9,
   "id": "cdef186e",
   "metadata": {
    "ExecuteTime": {
     "end_time": "2024-05-18T04:44:44.828259Z",
     "start_time": "2024-05-18T04:44:44.699381Z"
    }
   },
   "outputs": [
    {
     "data": {
      "text/plain": [
       "364644074.19"
      ]
     },
     "execution_count": 9,
     "metadata": {},
     "output_type": "execute_result"
    }
   ],
   "source": [
    "spend[\"Amount\"].sum()"
   ]
  },
  {
   "cell_type": "markdown",
   "id": "a72e98e1",
   "metadata": {},
   "source": [
    "## Exploratory Data Analysis"
   ]
  },
  {
   "cell_type": "code",
   "execution_count": 6,
   "id": "733fd6fe",
   "metadata": {
    "ExecuteTime": {
     "end_time": "2023-07-30T12:19:53.912699Z",
     "start_time": "2023-07-30T12:19:53.400106Z"
    }
   },
   "outputs": [
    {
     "name": "stdout",
     "output_type": "stream",
     "text": [
      "(100, 7)\n",
      "(1523, 3)\n",
      "(1500, 4)\n"
     ]
    }
   ],
   "source": [
    "print(customer.shape)\n",
    "print(repay.shape)\n",
    "print(spend.shape)"
   ]
  },
  {
   "cell_type": "code",
   "execution_count": 7,
   "id": "7e596edc",
   "metadata": {
    "ExecuteTime": {
     "end_time": "2023-07-30T12:19:54.338849Z",
     "start_time": "2023-07-30T12:19:53.912699Z"
    }
   },
   "outputs": [
    {
     "data": {
      "text/plain": [
       "Customer     object\n",
       "Age           int64\n",
       "City         object\n",
       "Product      object\n",
       "Limit       float64\n",
       "Company      object\n",
       "Segment      object\n",
       "dtype: object"
      ]
     },
     "execution_count": 7,
     "metadata": {},
     "output_type": "execute_result"
    }
   ],
   "source": [
    "customer.dtypes"
   ]
  },
  {
   "cell_type": "code",
   "execution_count": 8,
   "id": "2a61a418",
   "metadata": {
    "ExecuteTime": {
     "end_time": "2023-07-30T12:19:54.655501Z",
     "start_time": "2023-07-30T12:19:54.338849Z"
    }
   },
   "outputs": [
    {
     "data": {
      "text/plain": [
       "Customer     object\n",
       "Month        object\n",
       "Amount      float64\n",
       "dtype: object"
      ]
     },
     "execution_count": 8,
     "metadata": {},
     "output_type": "execute_result"
    }
   ],
   "source": [
    "repay.dtypes"
   ]
  },
  {
   "cell_type": "code",
   "execution_count": 9,
   "id": "2794fcf6",
   "metadata": {
    "ExecuteTime": {
     "end_time": "2023-07-30T12:19:55.093882Z",
     "start_time": "2023-07-30T12:19:54.658448Z"
    }
   },
   "outputs": [
    {
     "data": {
      "text/plain": [
       "Customer     object\n",
       "Month        object\n",
       "Type         object\n",
       "Amount      float64\n",
       "dtype: object"
      ]
     },
     "execution_count": 9,
     "metadata": {},
     "output_type": "execute_result"
    }
   ],
   "source": [
    "spend.dtypes"
   ]
  },
  {
   "cell_type": "code",
   "execution_count": 10,
   "id": "9dac6b58",
   "metadata": {
    "ExecuteTime": {
     "end_time": "2023-07-30T12:19:55.493993Z",
     "start_time": "2023-07-30T12:19:55.101905Z"
    }
   },
   "outputs": [
    {
     "data": {
      "text/plain": [
       "Customer    0\n",
       "Month       0\n",
       "Type        0\n",
       "Amount      0\n",
       "dtype: int64"
      ]
     },
     "execution_count": 10,
     "metadata": {},
     "output_type": "execute_result"
    }
   ],
   "source": [
    "spend.isnull().sum()"
   ]
  },
  {
   "cell_type": "code",
   "execution_count": 11,
   "id": "4b180a04",
   "metadata": {
    "ExecuteTime": {
     "end_time": "2023-07-30T12:19:56.012493Z",
     "start_time": "2023-07-30T12:19:55.493993Z"
    }
   },
   "outputs": [
    {
     "data": {
      "text/plain": [
       "Customer    0\n",
       "Age         0\n",
       "City        0\n",
       "Product     0\n",
       "Limit       0\n",
       "Company     0\n",
       "Segment     0\n",
       "dtype: int64"
      ]
     },
     "execution_count": 11,
     "metadata": {},
     "output_type": "execute_result"
    }
   ],
   "source": [
    "customer.isnull().sum()"
   ]
  },
  {
   "cell_type": "code",
   "execution_count": 12,
   "id": "083a9a26",
   "metadata": {
    "ExecuteTime": {
     "end_time": "2023-07-30T12:19:56.499495Z",
     "start_time": "2023-07-30T12:19:56.012493Z"
    }
   },
   "outputs": [
    {
     "data": {
      "text/plain": [
       "Customer    23\n",
       "Month       23\n",
       "Amount      23\n",
       "dtype: int64"
      ]
     },
     "execution_count": 12,
     "metadata": {},
     "output_type": "execute_result"
    }
   ],
   "source": [
    "repay.isnull().sum()"
   ]
  },
  {
   "cell_type": "code",
   "execution_count": 13,
   "id": "9012fda6",
   "metadata": {
    "ExecuteTime": {
     "end_time": "2023-07-30T12:19:57.226581Z",
     "start_time": "2023-07-30T12:19:56.505618Z"
    }
   },
   "outputs": [],
   "source": [
    "# dropping null values present in 'repay' data set\n",
    "\n",
    "repay.dropna(inplace=True)\n"
   ]
  },
  {
   "cell_type": "code",
   "execution_count": 14,
   "id": "774d770e",
   "metadata": {
    "ExecuteTime": {
     "end_time": "2023-07-30T12:19:57.719235Z",
     "start_time": "2023-07-30T12:19:57.226581Z"
    }
   },
   "outputs": [
    {
     "name": "stdout",
     "output_type": "stream",
     "text": [
      "(1500, 3)\n"
     ]
    }
   ],
   "source": [
    "print(repay.shape)"
   ]
  },
  {
   "cell_type": "code",
   "execution_count": 15,
   "id": "503ad05e",
   "metadata": {
    "ExecuteTime": {
     "end_time": "2023-07-30T12:19:58.306824Z",
     "start_time": "2023-07-30T12:19:57.719235Z"
    }
   },
   "outputs": [
    {
     "data": {
      "text/plain": [
       "Customer    0\n",
       "Month       0\n",
       "Amount      0\n",
       "dtype: int64"
      ]
     },
     "execution_count": 15,
     "metadata": {},
     "output_type": "execute_result"
    }
   ],
   "source": [
    "repay.isnull().sum()"
   ]
  },
  {
   "cell_type": "code",
   "execution_count": null,
   "id": "ad993d35",
   "metadata": {},
   "outputs": [],
   "source": []
  },
  {
   "cell_type": "markdown",
   "id": "17ef1318",
   "metadata": {},
   "source": [
    "# (1) In the above dataset"
   ]
  },
  {
   "cell_type": "markdown",
   "id": "3c044cde",
   "metadata": {},
   "source": [
    "### (a) In case age is less than 18, replace it with mean of age values."
   ]
  },
  {
   "cell_type": "code",
   "execution_count": 16,
   "id": "fa5dc106",
   "metadata": {
    "ExecuteTime": {
     "end_time": "2023-07-30T12:19:58.877586Z",
     "start_time": "2023-07-30T12:19:58.306824Z"
    }
   },
   "outputs": [],
   "source": [
    "mean_original = customer[\"Age\"].mean()"
   ]
  },
  {
   "cell_type": "code",
   "execution_count": 17,
   "id": "24f4ab46",
   "metadata": {
    "ExecuteTime": {
     "end_time": "2023-07-30T12:19:59.279629Z",
     "start_time": "2023-07-30T12:19:58.882437Z"
    }
   },
   "outputs": [
    {
     "data": {
      "text/plain": [
       "46.49"
      ]
     },
     "execution_count": 17,
     "metadata": {},
     "output_type": "execute_result"
    }
   ],
   "source": [
    "mean_original"
   ]
  },
  {
   "cell_type": "code",
   "execution_count": 18,
   "id": "c65c64bb",
   "metadata": {
    "ExecuteTime": {
     "end_time": "2023-07-30T12:19:59.774021Z",
     "start_time": "2023-07-30T12:19:59.279629Z"
    }
   },
   "outputs": [
    {
     "name": "stdout",
     "output_type": "stream",
     "text": [
      "The mean of Age column is 46.49\n"
     ]
    }
   ],
   "source": [
    "print(\"The mean of Age column is\",mean_original)"
   ]
  },
  {
   "cell_type": "code",
   "execution_count": 19,
   "id": "307a0694",
   "metadata": {
    "ExecuteTime": {
     "end_time": "2023-07-30T12:20:00.198171Z",
     "start_time": "2023-07-30T12:19:59.774021Z"
    }
   },
   "outputs": [],
   "source": [
    "#replacing age less than 18 with mean of age values\n",
    "\n",
    "customer.loc[customer[\"Age\"] < 18,\"Age\"] = customer[\"Age\"].mean()\n"
   ]
  },
  {
   "cell_type": "code",
   "execution_count": 20,
   "id": "2f407d8d",
   "metadata": {
    "ExecuteTime": {
     "end_time": "2023-07-30T12:20:00.723688Z",
     "start_time": "2023-07-30T12:20:00.198171Z"
    }
   },
   "outputs": [],
   "source": [
    "mean_new = customer[\"Age\"].mean()"
   ]
  },
  {
   "cell_type": "code",
   "execution_count": 21,
   "id": "f931322f",
   "metadata": {
    "ExecuteTime": {
     "end_time": "2023-07-30T12:20:01.142934Z",
     "start_time": "2023-07-30T12:20:00.723688Z"
    }
   },
   "outputs": [
    {
     "name": "stdout",
     "output_type": "stream",
     "text": [
      "The new mean of Age column is 48.399399999999986\n"
     ]
    }
   ],
   "source": [
    "print(\"The new mean of Age column is\",mean_new)"
   ]
  },
  {
   "cell_type": "code",
   "execution_count": null,
   "id": "bd97e773",
   "metadata": {},
   "outputs": [],
   "source": []
  },
  {
   "cell_type": "code",
   "execution_count": 22,
   "id": "47f1c053",
   "metadata": {
    "ExecuteTime": {
     "end_time": "2023-07-30T12:20:01.543310Z",
     "start_time": "2023-07-30T12:20:01.142934Z"
    }
   },
   "outputs": [
    {
     "data": {
      "text/plain": [
       "Series([], Name: Age, dtype: float64)"
      ]
     },
     "execution_count": 22,
     "metadata": {},
     "output_type": "execute_result"
    }
   ],
   "source": [
    "customer.loc[customer[\"Age\"] < 18,\"Age\"]"
   ]
  },
  {
   "cell_type": "code",
   "execution_count": null,
   "id": "87b5b4ab",
   "metadata": {},
   "outputs": [],
   "source": []
  },
  {
   "cell_type": "markdown",
   "id": "403fe779",
   "metadata": {},
   "source": [
    "## (b) In case spend amount is more than the limit, replace it with 50% of that customer’s limit. (customer’s limit provided in acquisition table is the per transaction limit on his card)"
   ]
  },
  {
   "cell_type": "code",
   "execution_count": 23,
   "id": "6ce8ad7a",
   "metadata": {
    "ExecuteTime": {
     "end_time": "2023-07-30T12:20:01.911537Z",
     "start_time": "2023-07-30T12:20:01.543310Z"
    }
   },
   "outputs": [
    {
     "data": {
      "text/html": [
       "<div>\n",
       "<style scoped>\n",
       "    .dataframe tbody tr th:only-of-type {\n",
       "        vertical-align: middle;\n",
       "    }\n",
       "\n",
       "    .dataframe tbody tr th {\n",
       "        vertical-align: top;\n",
       "    }\n",
       "\n",
       "    .dataframe thead th {\n",
       "        text-align: right;\n",
       "    }\n",
       "</style>\n",
       "<table border=\"1\" class=\"dataframe\">\n",
       "  <thead>\n",
       "    <tr style=\"text-align: right;\">\n",
       "      <th></th>\n",
       "      <th>Customer</th>\n",
       "      <th>Age</th>\n",
       "      <th>City</th>\n",
       "      <th>Product</th>\n",
       "      <th>Limit</th>\n",
       "      <th>Company</th>\n",
       "      <th>Segment</th>\n",
       "    </tr>\n",
       "  </thead>\n",
       "  <tbody>\n",
       "    <tr>\n",
       "      <th>0</th>\n",
       "      <td>A1</td>\n",
       "      <td>76.0</td>\n",
       "      <td>BANGALORE</td>\n",
       "      <td>Gold</td>\n",
       "      <td>500000.0</td>\n",
       "      <td>C1</td>\n",
       "      <td>Self Employed</td>\n",
       "    </tr>\n",
       "    <tr>\n",
       "      <th>1</th>\n",
       "      <td>A2</td>\n",
       "      <td>71.0</td>\n",
       "      <td>CALCUTTA</td>\n",
       "      <td>Silver</td>\n",
       "      <td>100000.0</td>\n",
       "      <td>C2</td>\n",
       "      <td>Salaried_MNC</td>\n",
       "    </tr>\n",
       "    <tr>\n",
       "      <th>2</th>\n",
       "      <td>A3</td>\n",
       "      <td>34.0</td>\n",
       "      <td>COCHIN</td>\n",
       "      <td>Platimum</td>\n",
       "      <td>10000.0</td>\n",
       "      <td>C3</td>\n",
       "      <td>Salaried_Pvt</td>\n",
       "    </tr>\n",
       "    <tr>\n",
       "      <th>3</th>\n",
       "      <td>A4</td>\n",
       "      <td>47.0</td>\n",
       "      <td>BOMBAY</td>\n",
       "      <td>Platimum</td>\n",
       "      <td>10001.0</td>\n",
       "      <td>C4</td>\n",
       "      <td>Govt</td>\n",
       "    </tr>\n",
       "    <tr>\n",
       "      <th>4</th>\n",
       "      <td>A5</td>\n",
       "      <td>56.0</td>\n",
       "      <td>BANGALORE</td>\n",
       "      <td>Platimum</td>\n",
       "      <td>10002.0</td>\n",
       "      <td>C5</td>\n",
       "      <td>Normal Salary</td>\n",
       "    </tr>\n",
       "  </tbody>\n",
       "</table>\n",
       "</div>"
      ],
      "text/plain": [
       "  Customer   Age       City   Product     Limit Company        Segment\n",
       "0       A1  76.0  BANGALORE      Gold  500000.0      C1  Self Employed\n",
       "1       A2  71.0   CALCUTTA    Silver  100000.0      C2   Salaried_MNC\n",
       "2       A3  34.0     COCHIN  Platimum   10000.0      C3   Salaried_Pvt\n",
       "3       A4  47.0     BOMBAY  Platimum   10001.0      C4           Govt\n",
       "4       A5  56.0  BANGALORE  Platimum   10002.0      C5  Normal Salary"
      ]
     },
     "execution_count": 23,
     "metadata": {},
     "output_type": "execute_result"
    }
   ],
   "source": [
    "customer.head()"
   ]
  },
  {
   "cell_type": "code",
   "execution_count": 24,
   "id": "b71b401b",
   "metadata": {
    "ExecuteTime": {
     "end_time": "2023-07-30T12:20:02.410030Z",
     "start_time": "2023-07-30T12:20:01.911537Z"
    }
   },
   "outputs": [
    {
     "data": {
      "text/html": [
       "<div>\n",
       "<style scoped>\n",
       "    .dataframe tbody tr th:only-of-type {\n",
       "        vertical-align: middle;\n",
       "    }\n",
       "\n",
       "    .dataframe tbody tr th {\n",
       "        vertical-align: top;\n",
       "    }\n",
       "\n",
       "    .dataframe thead th {\n",
       "        text-align: right;\n",
       "    }\n",
       "</style>\n",
       "<table border=\"1\" class=\"dataframe\">\n",
       "  <thead>\n",
       "    <tr style=\"text-align: right;\">\n",
       "      <th></th>\n",
       "      <th>Customer</th>\n",
       "      <th>Month</th>\n",
       "      <th>Type</th>\n",
       "      <th>Amount</th>\n",
       "    </tr>\n",
       "  </thead>\n",
       "  <tbody>\n",
       "    <tr>\n",
       "      <th>0</th>\n",
       "      <td>A1</td>\n",
       "      <td>12-Jan-04</td>\n",
       "      <td>JEWELLERY</td>\n",
       "      <td>485470.80</td>\n",
       "    </tr>\n",
       "    <tr>\n",
       "      <th>1</th>\n",
       "      <td>A1</td>\n",
       "      <td>3-Jan-04</td>\n",
       "      <td>PETRO</td>\n",
       "      <td>410556.13</td>\n",
       "    </tr>\n",
       "    <tr>\n",
       "      <th>2</th>\n",
       "      <td>A1</td>\n",
       "      <td>15-Jan-04</td>\n",
       "      <td>CLOTHES</td>\n",
       "      <td>23740.46</td>\n",
       "    </tr>\n",
       "    <tr>\n",
       "      <th>3</th>\n",
       "      <td>A1</td>\n",
       "      <td>25-Jan-04</td>\n",
       "      <td>FOOD</td>\n",
       "      <td>484342.47</td>\n",
       "    </tr>\n",
       "    <tr>\n",
       "      <th>4</th>\n",
       "      <td>A1</td>\n",
       "      <td>17-Jan-05</td>\n",
       "      <td>CAMERA</td>\n",
       "      <td>369694.07</td>\n",
       "    </tr>\n",
       "  </tbody>\n",
       "</table>\n",
       "</div>"
      ],
      "text/plain": [
       "  Customer      Month       Type     Amount\n",
       "0       A1  12-Jan-04  JEWELLERY  485470.80\n",
       "1       A1   3-Jan-04      PETRO  410556.13\n",
       "2       A1  15-Jan-04    CLOTHES   23740.46\n",
       "3       A1  25-Jan-04       FOOD  484342.47\n",
       "4       A1  17-Jan-05     CAMERA  369694.07"
      ]
     },
     "execution_count": 24,
     "metadata": {},
     "output_type": "execute_result"
    }
   ],
   "source": [
    "spend.head()"
   ]
  },
  {
   "cell_type": "code",
   "execution_count": null,
   "id": "9e819313",
   "metadata": {},
   "outputs": [],
   "source": []
  },
  {
   "cell_type": "code",
   "execution_count": 25,
   "id": "588433b3",
   "metadata": {
    "ExecuteTime": {
     "end_time": "2023-07-30T12:20:03.259302Z",
     "start_time": "2023-07-30T12:20:02.410030Z"
    }
   },
   "outputs": [],
   "source": [
    "customer_spend = pd.merge(left=customer,right=spend,on=\"Customer\",how=\"inner\")"
   ]
  },
  {
   "cell_type": "code",
   "execution_count": 26,
   "id": "341f2806",
   "metadata": {
    "ExecuteTime": {
     "end_time": "2023-07-30T12:20:03.305264Z",
     "start_time": "2023-07-30T12:20:03.259302Z"
    }
   },
   "outputs": [
    {
     "data": {
      "text/html": [
       "<div>\n",
       "<style scoped>\n",
       "    .dataframe tbody tr th:only-of-type {\n",
       "        vertical-align: middle;\n",
       "    }\n",
       "\n",
       "    .dataframe tbody tr th {\n",
       "        vertical-align: top;\n",
       "    }\n",
       "\n",
       "    .dataframe thead th {\n",
       "        text-align: right;\n",
       "    }\n",
       "</style>\n",
       "<table border=\"1\" class=\"dataframe\">\n",
       "  <thead>\n",
       "    <tr style=\"text-align: right;\">\n",
       "      <th></th>\n",
       "      <th>Customer</th>\n",
       "      <th>Age</th>\n",
       "      <th>City</th>\n",
       "      <th>Product</th>\n",
       "      <th>Limit</th>\n",
       "      <th>Company</th>\n",
       "      <th>Segment</th>\n",
       "      <th>Month</th>\n",
       "      <th>Type</th>\n",
       "      <th>Amount</th>\n",
       "    </tr>\n",
       "  </thead>\n",
       "  <tbody>\n",
       "    <tr>\n",
       "      <th>0</th>\n",
       "      <td>A1</td>\n",
       "      <td>76.0</td>\n",
       "      <td>BANGALORE</td>\n",
       "      <td>Gold</td>\n",
       "      <td>500000.0</td>\n",
       "      <td>C1</td>\n",
       "      <td>Self Employed</td>\n",
       "      <td>12-Jan-04</td>\n",
       "      <td>JEWELLERY</td>\n",
       "      <td>485470.80</td>\n",
       "    </tr>\n",
       "    <tr>\n",
       "      <th>1</th>\n",
       "      <td>A1</td>\n",
       "      <td>76.0</td>\n",
       "      <td>BANGALORE</td>\n",
       "      <td>Gold</td>\n",
       "      <td>500000.0</td>\n",
       "      <td>C1</td>\n",
       "      <td>Self Employed</td>\n",
       "      <td>3-Jan-04</td>\n",
       "      <td>PETRO</td>\n",
       "      <td>410556.13</td>\n",
       "    </tr>\n",
       "    <tr>\n",
       "      <th>2</th>\n",
       "      <td>A1</td>\n",
       "      <td>76.0</td>\n",
       "      <td>BANGALORE</td>\n",
       "      <td>Gold</td>\n",
       "      <td>500000.0</td>\n",
       "      <td>C1</td>\n",
       "      <td>Self Employed</td>\n",
       "      <td>15-Jan-04</td>\n",
       "      <td>CLOTHES</td>\n",
       "      <td>23740.46</td>\n",
       "    </tr>\n",
       "    <tr>\n",
       "      <th>3</th>\n",
       "      <td>A1</td>\n",
       "      <td>76.0</td>\n",
       "      <td>BANGALORE</td>\n",
       "      <td>Gold</td>\n",
       "      <td>500000.0</td>\n",
       "      <td>C1</td>\n",
       "      <td>Self Employed</td>\n",
       "      <td>25-Jan-04</td>\n",
       "      <td>FOOD</td>\n",
       "      <td>484342.47</td>\n",
       "    </tr>\n",
       "    <tr>\n",
       "      <th>4</th>\n",
       "      <td>A1</td>\n",
       "      <td>76.0</td>\n",
       "      <td>BANGALORE</td>\n",
       "      <td>Gold</td>\n",
       "      <td>500000.0</td>\n",
       "      <td>C1</td>\n",
       "      <td>Self Employed</td>\n",
       "      <td>17-Jan-05</td>\n",
       "      <td>CAMERA</td>\n",
       "      <td>369694.07</td>\n",
       "    </tr>\n",
       "  </tbody>\n",
       "</table>\n",
       "</div>"
      ],
      "text/plain": [
       "  Customer   Age       City Product     Limit Company        Segment  \\\n",
       "0       A1  76.0  BANGALORE    Gold  500000.0      C1  Self Employed   \n",
       "1       A1  76.0  BANGALORE    Gold  500000.0      C1  Self Employed   \n",
       "2       A1  76.0  BANGALORE    Gold  500000.0      C1  Self Employed   \n",
       "3       A1  76.0  BANGALORE    Gold  500000.0      C1  Self Employed   \n",
       "4       A1  76.0  BANGALORE    Gold  500000.0      C1  Self Employed   \n",
       "\n",
       "       Month       Type     Amount  \n",
       "0  12-Jan-04  JEWELLERY  485470.80  \n",
       "1   3-Jan-04      PETRO  410556.13  \n",
       "2  15-Jan-04    CLOTHES   23740.46  \n",
       "3  25-Jan-04       FOOD  484342.47  \n",
       "4  17-Jan-05     CAMERA  369694.07  "
      ]
     },
     "execution_count": 26,
     "metadata": {},
     "output_type": "execute_result"
    }
   ],
   "source": [
    "customer_spend.head()"
   ]
  },
  {
   "cell_type": "code",
   "execution_count": 27,
   "id": "c3f80556",
   "metadata": {
    "ExecuteTime": {
     "end_time": "2023-07-30T12:20:03.670985Z",
     "start_time": "2023-07-30T12:20:03.305264Z"
    }
   },
   "outputs": [
    {
     "data": {
      "text/plain": [
       "(1500, 10)"
      ]
     },
     "execution_count": 27,
     "metadata": {},
     "output_type": "execute_result"
    }
   ],
   "source": [
    "customer_spend.shape"
   ]
  },
  {
   "cell_type": "code",
   "execution_count": 28,
   "id": "db1a3b80",
   "metadata": {
    "ExecuteTime": {
     "end_time": "2023-07-30T12:20:03.805472Z",
     "start_time": "2023-07-30T12:20:03.688319Z"
    }
   },
   "outputs": [
    {
     "data": {
      "text/html": [
       "<div>\n",
       "<style scoped>\n",
       "    .dataframe tbody tr th:only-of-type {\n",
       "        vertical-align: middle;\n",
       "    }\n",
       "\n",
       "    .dataframe tbody tr th {\n",
       "        vertical-align: top;\n",
       "    }\n",
       "\n",
       "    .dataframe thead th {\n",
       "        text-align: right;\n",
       "    }\n",
       "</style>\n",
       "<table border=\"1\" class=\"dataframe\">\n",
       "  <thead>\n",
       "    <tr style=\"text-align: right;\">\n",
       "      <th></th>\n",
       "      <th>Customer</th>\n",
       "      <th>Age</th>\n",
       "      <th>City</th>\n",
       "      <th>Product</th>\n",
       "      <th>Limit</th>\n",
       "      <th>Company</th>\n",
       "      <th>Segment</th>\n",
       "      <th>Month</th>\n",
       "      <th>Type</th>\n",
       "      <th>Amount</th>\n",
       "    </tr>\n",
       "  </thead>\n",
       "  <tbody>\n",
       "    <tr>\n",
       "      <th>18</th>\n",
       "      <td>A2</td>\n",
       "      <td>71.0</td>\n",
       "      <td>CALCUTTA</td>\n",
       "      <td>Silver</td>\n",
       "      <td>100000.0</td>\n",
       "      <td>C2</td>\n",
       "      <td>Salaried_MNC</td>\n",
       "      <td>3-Jan-04</td>\n",
       "      <td>RENTAL</td>\n",
       "      <td>199554.72</td>\n",
       "    </tr>\n",
       "    <tr>\n",
       "      <th>19</th>\n",
       "      <td>A2</td>\n",
       "      <td>71.0</td>\n",
       "      <td>CALCUTTA</td>\n",
       "      <td>Silver</td>\n",
       "      <td>100000.0</td>\n",
       "      <td>C2</td>\n",
       "      <td>Salaried_MNC</td>\n",
       "      <td>28-Feb-05</td>\n",
       "      <td>TRAIN TICKET</td>\n",
       "      <td>376887.49</td>\n",
       "    </tr>\n",
       "    <tr>\n",
       "      <th>20</th>\n",
       "      <td>A2</td>\n",
       "      <td>71.0</td>\n",
       "      <td>CALCUTTA</td>\n",
       "      <td>Silver</td>\n",
       "      <td>100000.0</td>\n",
       "      <td>C2</td>\n",
       "      <td>Salaried_MNC</td>\n",
       "      <td>6-Apr-04</td>\n",
       "      <td>BUS TICKET</td>\n",
       "      <td>439648.53</td>\n",
       "    </tr>\n",
       "    <tr>\n",
       "      <th>21</th>\n",
       "      <td>A2</td>\n",
       "      <td>71.0</td>\n",
       "      <td>CALCUTTA</td>\n",
       "      <td>Silver</td>\n",
       "      <td>100000.0</td>\n",
       "      <td>C2</td>\n",
       "      <td>Salaried_MNC</td>\n",
       "      <td>23-Nov-04</td>\n",
       "      <td>PETRO</td>\n",
       "      <td>384078.73</td>\n",
       "    </tr>\n",
       "    <tr>\n",
       "      <th>22</th>\n",
       "      <td>A2</td>\n",
       "      <td>71.0</td>\n",
       "      <td>CALCUTTA</td>\n",
       "      <td>Silver</td>\n",
       "      <td>100000.0</td>\n",
       "      <td>C2</td>\n",
       "      <td>Salaried_MNC</td>\n",
       "      <td>3-Sep-05</td>\n",
       "      <td>JEWELLERY</td>\n",
       "      <td>117089.16</td>\n",
       "    </tr>\n",
       "    <tr>\n",
       "      <th>...</th>\n",
       "      <td>...</td>\n",
       "      <td>...</td>\n",
       "      <td>...</td>\n",
       "      <td>...</td>\n",
       "      <td>...</td>\n",
       "      <td>...</td>\n",
       "      <td>...</td>\n",
       "      <td>...</td>\n",
       "      <td>...</td>\n",
       "      <td>...</td>\n",
       "    </tr>\n",
       "    <tr>\n",
       "      <th>1486</th>\n",
       "      <td>A87</td>\n",
       "      <td>27.0</td>\n",
       "      <td>CALCUTTA</td>\n",
       "      <td>Silver</td>\n",
       "      <td>100003.0</td>\n",
       "      <td>C10</td>\n",
       "      <td>Govt</td>\n",
       "      <td>30-Mar-06</td>\n",
       "      <td>RENTAL</td>\n",
       "      <td>483886.62</td>\n",
       "    </tr>\n",
       "    <tr>\n",
       "      <th>1496</th>\n",
       "      <td>A97</td>\n",
       "      <td>58.0</td>\n",
       "      <td>TRIVANDRUM</td>\n",
       "      <td>Platimum</td>\n",
       "      <td>10000.0</td>\n",
       "      <td>C20</td>\n",
       "      <td>Govt</td>\n",
       "      <td>12-Jan-04</td>\n",
       "      <td>AUTO</td>\n",
       "      <td>139018.26</td>\n",
       "    </tr>\n",
       "    <tr>\n",
       "      <th>1497</th>\n",
       "      <td>A98</td>\n",
       "      <td>51.0</td>\n",
       "      <td>CALCUTTA</td>\n",
       "      <td>Platimum</td>\n",
       "      <td>10001.0</td>\n",
       "      <td>C21</td>\n",
       "      <td>Normal Salary</td>\n",
       "      <td>3-Jan-04</td>\n",
       "      <td>SHOPPING</td>\n",
       "      <td>284521.06</td>\n",
       "    </tr>\n",
       "    <tr>\n",
       "      <th>1498</th>\n",
       "      <td>A99</td>\n",
       "      <td>35.0</td>\n",
       "      <td>CALCUTTA</td>\n",
       "      <td>Platimum</td>\n",
       "      <td>10002.0</td>\n",
       "      <td>C22</td>\n",
       "      <td>Self Employed</td>\n",
       "      <td>15-Jan-04</td>\n",
       "      <td>AIR TICKET</td>\n",
       "      <td>90184.22</td>\n",
       "    </tr>\n",
       "    <tr>\n",
       "      <th>1499</th>\n",
       "      <td>A100</td>\n",
       "      <td>36.0</td>\n",
       "      <td>COCHIN</td>\n",
       "      <td>Silver</td>\n",
       "      <td>100000.0</td>\n",
       "      <td>C5</td>\n",
       "      <td>Salaried_MNC</td>\n",
       "      <td>25-Jan-04</td>\n",
       "      <td>BUS TICKET</td>\n",
       "      <td>224786.88</td>\n",
       "    </tr>\n",
       "  </tbody>\n",
       "</table>\n",
       "<p>607 rows × 10 columns</p>\n",
       "</div>"
      ],
      "text/plain": [
       "     Customer   Age        City   Product     Limit Company        Segment  \\\n",
       "18         A2  71.0    CALCUTTA    Silver  100000.0      C2   Salaried_MNC   \n",
       "19         A2  71.0    CALCUTTA    Silver  100000.0      C2   Salaried_MNC   \n",
       "20         A2  71.0    CALCUTTA    Silver  100000.0      C2   Salaried_MNC   \n",
       "21         A2  71.0    CALCUTTA    Silver  100000.0      C2   Salaried_MNC   \n",
       "22         A2  71.0    CALCUTTA    Silver  100000.0      C2   Salaried_MNC   \n",
       "...       ...   ...         ...       ...       ...     ...            ...   \n",
       "1486      A87  27.0    CALCUTTA    Silver  100003.0     C10           Govt   \n",
       "1496      A97  58.0  TRIVANDRUM  Platimum   10000.0     C20           Govt   \n",
       "1497      A98  51.0    CALCUTTA  Platimum   10001.0     C21  Normal Salary   \n",
       "1498      A99  35.0    CALCUTTA  Platimum   10002.0     C22  Self Employed   \n",
       "1499     A100  36.0      COCHIN    Silver  100000.0      C5   Salaried_MNC   \n",
       "\n",
       "          Month          Type     Amount  \n",
       "18     3-Jan-04        RENTAL  199554.72  \n",
       "19    28-Feb-05  TRAIN TICKET  376887.49  \n",
       "20     6-Apr-04    BUS TICKET  439648.53  \n",
       "21    23-Nov-04         PETRO  384078.73  \n",
       "22     3-Sep-05     JEWELLERY  117089.16  \n",
       "...         ...           ...        ...  \n",
       "1486  30-Mar-06        RENTAL  483886.62  \n",
       "1496  12-Jan-04          AUTO  139018.26  \n",
       "1497   3-Jan-04      SHOPPING  284521.06  \n",
       "1498  15-Jan-04    AIR TICKET   90184.22  \n",
       "1499  25-Jan-04    BUS TICKET  224786.88  \n",
       "\n",
       "[607 rows x 10 columns]"
      ]
     },
     "execution_count": 28,
     "metadata": {},
     "output_type": "execute_result"
    }
   ],
   "source": [
    "#all the customers whose spend amount is more than the limit,replacing with 50% of that customer’s limit\n",
    "\n",
    "customer_spend[customer_spend[\"Amount\"] > customer_spend['Limit']]"
   ]
  },
  {
   "cell_type": "code",
   "execution_count": null,
   "id": "2b793121",
   "metadata": {},
   "outputs": [],
   "source": []
  },
  {
   "cell_type": "code",
   "execution_count": 29,
   "id": "0a0d88bd",
   "metadata": {
    "ExecuteTime": {
     "end_time": "2023-07-30T12:20:04.054685Z",
     "start_time": "2023-07-30T12:20:03.805472Z"
    }
   },
   "outputs": [],
   "source": [
    "customer_spend.loc[customer_spend[\"Amount\"] > customer_spend[\"Limit\"],\"Amount\"] = (50 * customer_spend[\"Limit\"]).div(100)"
   ]
  },
  {
   "cell_type": "code",
   "execution_count": 30,
   "id": "222cc2fb",
   "metadata": {
    "ExecuteTime": {
     "end_time": "2023-07-30T12:20:04.346856Z",
     "start_time": "2023-07-30T12:20:04.054685Z"
    }
   },
   "outputs": [
    {
     "data": {
      "text/html": [
       "<div>\n",
       "<style scoped>\n",
       "    .dataframe tbody tr th:only-of-type {\n",
       "        vertical-align: middle;\n",
       "    }\n",
       "\n",
       "    .dataframe tbody tr th {\n",
       "        vertical-align: top;\n",
       "    }\n",
       "\n",
       "    .dataframe thead th {\n",
       "        text-align: right;\n",
       "    }\n",
       "</style>\n",
       "<table border=\"1\" class=\"dataframe\">\n",
       "  <thead>\n",
       "    <tr style=\"text-align: right;\">\n",
       "      <th></th>\n",
       "      <th>Customer</th>\n",
       "      <th>Age</th>\n",
       "      <th>City</th>\n",
       "      <th>Product</th>\n",
       "      <th>Limit</th>\n",
       "      <th>Company</th>\n",
       "      <th>Segment</th>\n",
       "      <th>Month</th>\n",
       "      <th>Type</th>\n",
       "      <th>Amount</th>\n",
       "    </tr>\n",
       "  </thead>\n",
       "  <tbody>\n",
       "  </tbody>\n",
       "</table>\n",
       "</div>"
      ],
      "text/plain": [
       "Empty DataFrame\n",
       "Columns: [Customer, Age, City, Product, Limit, Company, Segment, Month, Type, Amount]\n",
       "Index: []"
      ]
     },
     "execution_count": 30,
     "metadata": {},
     "output_type": "execute_result"
    }
   ],
   "source": [
    "customer_spend[customer_spend[\"Amount\"] > customer_spend['Limit']]"
   ]
  },
  {
   "cell_type": "code",
   "execution_count": null,
   "id": "714313c8",
   "metadata": {},
   "outputs": [],
   "source": []
  },
  {
   "cell_type": "markdown",
   "id": "aba0341a",
   "metadata": {},
   "source": [
    "# (c) Incase the repayment amount is more than the limit, replace the repayment with the limit"
   ]
  },
  {
   "cell_type": "code",
   "execution_count": null,
   "id": "77945457",
   "metadata": {},
   "outputs": [],
   "source": []
  },
  {
   "cell_type": "code",
   "execution_count": 31,
   "id": "23de586e",
   "metadata": {
    "ExecuteTime": {
     "end_time": "2023-07-30T12:20:04.513373Z",
     "start_time": "2023-07-30T12:20:04.346856Z"
    }
   },
   "outputs": [
    {
     "data": {
      "text/html": [
       "<div>\n",
       "<style scoped>\n",
       "    .dataframe tbody tr th:only-of-type {\n",
       "        vertical-align: middle;\n",
       "    }\n",
       "\n",
       "    .dataframe tbody tr th {\n",
       "        vertical-align: top;\n",
       "    }\n",
       "\n",
       "    .dataframe thead th {\n",
       "        text-align: right;\n",
       "    }\n",
       "</style>\n",
       "<table border=\"1\" class=\"dataframe\">\n",
       "  <thead>\n",
       "    <tr style=\"text-align: right;\">\n",
       "      <th></th>\n",
       "      <th>Customer</th>\n",
       "      <th>Age</th>\n",
       "      <th>City</th>\n",
       "      <th>Product</th>\n",
       "      <th>Limit</th>\n",
       "      <th>Company</th>\n",
       "      <th>Segment</th>\n",
       "    </tr>\n",
       "  </thead>\n",
       "  <tbody>\n",
       "    <tr>\n",
       "      <th>0</th>\n",
       "      <td>A1</td>\n",
       "      <td>76.0</td>\n",
       "      <td>BANGALORE</td>\n",
       "      <td>Gold</td>\n",
       "      <td>500000.0</td>\n",
       "      <td>C1</td>\n",
       "      <td>Self Employed</td>\n",
       "    </tr>\n",
       "    <tr>\n",
       "      <th>1</th>\n",
       "      <td>A2</td>\n",
       "      <td>71.0</td>\n",
       "      <td>CALCUTTA</td>\n",
       "      <td>Silver</td>\n",
       "      <td>100000.0</td>\n",
       "      <td>C2</td>\n",
       "      <td>Salaried_MNC</td>\n",
       "    </tr>\n",
       "    <tr>\n",
       "      <th>2</th>\n",
       "      <td>A3</td>\n",
       "      <td>34.0</td>\n",
       "      <td>COCHIN</td>\n",
       "      <td>Platimum</td>\n",
       "      <td>10000.0</td>\n",
       "      <td>C3</td>\n",
       "      <td>Salaried_Pvt</td>\n",
       "    </tr>\n",
       "    <tr>\n",
       "      <th>3</th>\n",
       "      <td>A4</td>\n",
       "      <td>47.0</td>\n",
       "      <td>BOMBAY</td>\n",
       "      <td>Platimum</td>\n",
       "      <td>10001.0</td>\n",
       "      <td>C4</td>\n",
       "      <td>Govt</td>\n",
       "    </tr>\n",
       "    <tr>\n",
       "      <th>4</th>\n",
       "      <td>A5</td>\n",
       "      <td>56.0</td>\n",
       "      <td>BANGALORE</td>\n",
       "      <td>Platimum</td>\n",
       "      <td>10002.0</td>\n",
       "      <td>C5</td>\n",
       "      <td>Normal Salary</td>\n",
       "    </tr>\n",
       "  </tbody>\n",
       "</table>\n",
       "</div>"
      ],
      "text/plain": [
       "  Customer   Age       City   Product     Limit Company        Segment\n",
       "0       A1  76.0  BANGALORE      Gold  500000.0      C1  Self Employed\n",
       "1       A2  71.0   CALCUTTA    Silver  100000.0      C2   Salaried_MNC\n",
       "2       A3  34.0     COCHIN  Platimum   10000.0      C3   Salaried_Pvt\n",
       "3       A4  47.0     BOMBAY  Platimum   10001.0      C4           Govt\n",
       "4       A5  56.0  BANGALORE  Platimum   10002.0      C5  Normal Salary"
      ]
     },
     "execution_count": 31,
     "metadata": {},
     "output_type": "execute_result"
    }
   ],
   "source": [
    "customer.head()"
   ]
  },
  {
   "cell_type": "code",
   "execution_count": 32,
   "id": "8fdf48a0",
   "metadata": {
    "ExecuteTime": {
     "end_time": "2023-07-30T12:20:04.681746Z",
     "start_time": "2023-07-30T12:20:04.515701Z"
    }
   },
   "outputs": [
    {
     "data": {
      "text/html": [
       "<div>\n",
       "<style scoped>\n",
       "    .dataframe tbody tr th:only-of-type {\n",
       "        vertical-align: middle;\n",
       "    }\n",
       "\n",
       "    .dataframe tbody tr th {\n",
       "        vertical-align: top;\n",
       "    }\n",
       "\n",
       "    .dataframe thead th {\n",
       "        text-align: right;\n",
       "    }\n",
       "</style>\n",
       "<table border=\"1\" class=\"dataframe\">\n",
       "  <thead>\n",
       "    <tr style=\"text-align: right;\">\n",
       "      <th></th>\n",
       "      <th>Customer</th>\n",
       "      <th>Month</th>\n",
       "      <th>Amount</th>\n",
       "    </tr>\n",
       "  </thead>\n",
       "  <tbody>\n",
       "    <tr>\n",
       "      <th>0</th>\n",
       "      <td>A1</td>\n",
       "      <td>12-Jan-04</td>\n",
       "      <td>495414.75</td>\n",
       "    </tr>\n",
       "    <tr>\n",
       "      <th>1</th>\n",
       "      <td>A1</td>\n",
       "      <td>3-Jan-04</td>\n",
       "      <td>245899.02</td>\n",
       "    </tr>\n",
       "    <tr>\n",
       "      <th>2</th>\n",
       "      <td>A1</td>\n",
       "      <td>15-Jan-04</td>\n",
       "      <td>259490.06</td>\n",
       "    </tr>\n",
       "    <tr>\n",
       "      <th>3</th>\n",
       "      <td>A1</td>\n",
       "      <td>25-Jan-04</td>\n",
       "      <td>437555.12</td>\n",
       "    </tr>\n",
       "    <tr>\n",
       "      <th>4</th>\n",
       "      <td>A1</td>\n",
       "      <td>17-Jan-05</td>\n",
       "      <td>165972.88</td>\n",
       "    </tr>\n",
       "  </tbody>\n",
       "</table>\n",
       "</div>"
      ],
      "text/plain": [
       "  Customer      Month     Amount\n",
       "0       A1  12-Jan-04  495414.75\n",
       "1       A1   3-Jan-04  245899.02\n",
       "2       A1  15-Jan-04  259490.06\n",
       "3       A1  25-Jan-04  437555.12\n",
       "4       A1  17-Jan-05  165972.88"
      ]
     },
     "execution_count": 32,
     "metadata": {},
     "output_type": "execute_result"
    }
   ],
   "source": [
    "repay.head()"
   ]
  },
  {
   "cell_type": "code",
   "execution_count": 33,
   "id": "3a6c6baf",
   "metadata": {
    "ExecuteTime": {
     "end_time": "2023-07-30T12:20:04.883614Z",
     "start_time": "2023-07-30T12:20:04.682927Z"
    }
   },
   "outputs": [],
   "source": [
    "customer_repay = pd.merge(left=repay,right=customer,on=\"Customer\",how=\"inner\")"
   ]
  },
  {
   "cell_type": "code",
   "execution_count": 34,
   "id": "4eb8196f",
   "metadata": {
    "ExecuteTime": {
     "end_time": "2023-07-30T12:20:05.065936Z",
     "start_time": "2023-07-30T12:20:04.883614Z"
    }
   },
   "outputs": [
    {
     "data": {
      "text/html": [
       "<div>\n",
       "<style scoped>\n",
       "    .dataframe tbody tr th:only-of-type {\n",
       "        vertical-align: middle;\n",
       "    }\n",
       "\n",
       "    .dataframe tbody tr th {\n",
       "        vertical-align: top;\n",
       "    }\n",
       "\n",
       "    .dataframe thead th {\n",
       "        text-align: right;\n",
       "    }\n",
       "</style>\n",
       "<table border=\"1\" class=\"dataframe\">\n",
       "  <thead>\n",
       "    <tr style=\"text-align: right;\">\n",
       "      <th></th>\n",
       "      <th>Customer</th>\n",
       "      <th>Month</th>\n",
       "      <th>Amount</th>\n",
       "      <th>Age</th>\n",
       "      <th>City</th>\n",
       "      <th>Product</th>\n",
       "      <th>Limit</th>\n",
       "      <th>Company</th>\n",
       "      <th>Segment</th>\n",
       "    </tr>\n",
       "  </thead>\n",
       "  <tbody>\n",
       "    <tr>\n",
       "      <th>0</th>\n",
       "      <td>A1</td>\n",
       "      <td>12-Jan-04</td>\n",
       "      <td>495414.75</td>\n",
       "      <td>76.0</td>\n",
       "      <td>BANGALORE</td>\n",
       "      <td>Gold</td>\n",
       "      <td>500000.0</td>\n",
       "      <td>C1</td>\n",
       "      <td>Self Employed</td>\n",
       "    </tr>\n",
       "    <tr>\n",
       "      <th>1</th>\n",
       "      <td>A1</td>\n",
       "      <td>3-Jan-04</td>\n",
       "      <td>245899.02</td>\n",
       "      <td>76.0</td>\n",
       "      <td>BANGALORE</td>\n",
       "      <td>Gold</td>\n",
       "      <td>500000.0</td>\n",
       "      <td>C1</td>\n",
       "      <td>Self Employed</td>\n",
       "    </tr>\n",
       "    <tr>\n",
       "      <th>2</th>\n",
       "      <td>A1</td>\n",
       "      <td>15-Jan-04</td>\n",
       "      <td>259490.06</td>\n",
       "      <td>76.0</td>\n",
       "      <td>BANGALORE</td>\n",
       "      <td>Gold</td>\n",
       "      <td>500000.0</td>\n",
       "      <td>C1</td>\n",
       "      <td>Self Employed</td>\n",
       "    </tr>\n",
       "    <tr>\n",
       "      <th>3</th>\n",
       "      <td>A1</td>\n",
       "      <td>25-Jan-04</td>\n",
       "      <td>437555.12</td>\n",
       "      <td>76.0</td>\n",
       "      <td>BANGALORE</td>\n",
       "      <td>Gold</td>\n",
       "      <td>500000.0</td>\n",
       "      <td>C1</td>\n",
       "      <td>Self Employed</td>\n",
       "    </tr>\n",
       "    <tr>\n",
       "      <th>4</th>\n",
       "      <td>A1</td>\n",
       "      <td>17-Jan-05</td>\n",
       "      <td>165972.88</td>\n",
       "      <td>76.0</td>\n",
       "      <td>BANGALORE</td>\n",
       "      <td>Gold</td>\n",
       "      <td>500000.0</td>\n",
       "      <td>C1</td>\n",
       "      <td>Self Employed</td>\n",
       "    </tr>\n",
       "  </tbody>\n",
       "</table>\n",
       "</div>"
      ],
      "text/plain": [
       "  Customer      Month     Amount   Age       City Product     Limit Company  \\\n",
       "0       A1  12-Jan-04  495414.75  76.0  BANGALORE    Gold  500000.0      C1   \n",
       "1       A1   3-Jan-04  245899.02  76.0  BANGALORE    Gold  500000.0      C1   \n",
       "2       A1  15-Jan-04  259490.06  76.0  BANGALORE    Gold  500000.0      C1   \n",
       "3       A1  25-Jan-04  437555.12  76.0  BANGALORE    Gold  500000.0      C1   \n",
       "4       A1  17-Jan-05  165972.88  76.0  BANGALORE    Gold  500000.0      C1   \n",
       "\n",
       "         Segment  \n",
       "0  Self Employed  \n",
       "1  Self Employed  \n",
       "2  Self Employed  \n",
       "3  Self Employed  \n",
       "4  Self Employed  "
      ]
     },
     "execution_count": 34,
     "metadata": {},
     "output_type": "execute_result"
    }
   ],
   "source": [
    "customer_repay.head()"
   ]
  },
  {
   "cell_type": "code",
   "execution_count": null,
   "id": "1c048e9c",
   "metadata": {},
   "outputs": [],
   "source": []
  },
  {
   "cell_type": "code",
   "execution_count": 35,
   "id": "20ed6558",
   "metadata": {
    "ExecuteTime": {
     "end_time": "2023-07-30T12:20:05.577444Z",
     "start_time": "2023-07-30T12:20:05.065936Z"
    }
   },
   "outputs": [
    {
     "data": {
      "text/html": [
       "<div>\n",
       "<style scoped>\n",
       "    .dataframe tbody tr th:only-of-type {\n",
       "        vertical-align: middle;\n",
       "    }\n",
       "\n",
       "    .dataframe tbody tr th {\n",
       "        vertical-align: top;\n",
       "    }\n",
       "\n",
       "    .dataframe thead th {\n",
       "        text-align: right;\n",
       "    }\n",
       "</style>\n",
       "<table border=\"1\" class=\"dataframe\">\n",
       "  <thead>\n",
       "    <tr style=\"text-align: right;\">\n",
       "      <th></th>\n",
       "      <th>Customer</th>\n",
       "      <th>Month</th>\n",
       "      <th>Amount</th>\n",
       "      <th>Age</th>\n",
       "      <th>City</th>\n",
       "      <th>Product</th>\n",
       "      <th>Limit</th>\n",
       "      <th>Company</th>\n",
       "      <th>Segment</th>\n",
       "    </tr>\n",
       "  </thead>\n",
       "  <tbody>\n",
       "    <tr>\n",
       "      <th>18</th>\n",
       "      <td>A8</td>\n",
       "      <td>5-Feb-04</td>\n",
       "      <td>156913.59</td>\n",
       "      <td>67.0</td>\n",
       "      <td>PATNA</td>\n",
       "      <td>Silver</td>\n",
       "      <td>100002.0</td>\n",
       "      <td>C8</td>\n",
       "      <td>Salaried_Pvt</td>\n",
       "    </tr>\n",
       "    <tr>\n",
       "      <th>19</th>\n",
       "      <td>A8</td>\n",
       "      <td>12-Jan-04</td>\n",
       "      <td>350999.98</td>\n",
       "      <td>67.0</td>\n",
       "      <td>PATNA</td>\n",
       "      <td>Silver</td>\n",
       "      <td>100002.0</td>\n",
       "      <td>C8</td>\n",
       "      <td>Salaried_Pvt</td>\n",
       "    </tr>\n",
       "    <tr>\n",
       "      <th>20</th>\n",
       "      <td>A8</td>\n",
       "      <td>31-Mar-06</td>\n",
       "      <td>155642.95</td>\n",
       "      <td>67.0</td>\n",
       "      <td>PATNA</td>\n",
       "      <td>Silver</td>\n",
       "      <td>100002.0</td>\n",
       "      <td>C8</td>\n",
       "      <td>Salaried_Pvt</td>\n",
       "    </tr>\n",
       "    <tr>\n",
       "      <th>21</th>\n",
       "      <td>A8</td>\n",
       "      <td>9-May-05</td>\n",
       "      <td>145457.38</td>\n",
       "      <td>67.0</td>\n",
       "      <td>PATNA</td>\n",
       "      <td>Silver</td>\n",
       "      <td>100002.0</td>\n",
       "      <td>C8</td>\n",
       "      <td>Salaried_Pvt</td>\n",
       "    </tr>\n",
       "    <tr>\n",
       "      <th>22</th>\n",
       "      <td>A8</td>\n",
       "      <td>8-May-06</td>\n",
       "      <td>361184.89</td>\n",
       "      <td>67.0</td>\n",
       "      <td>PATNA</td>\n",
       "      <td>Silver</td>\n",
       "      <td>100002.0</td>\n",
       "      <td>C8</td>\n",
       "      <td>Salaried_Pvt</td>\n",
       "    </tr>\n",
       "    <tr>\n",
       "      <th>...</th>\n",
       "      <td>...</td>\n",
       "      <td>...</td>\n",
       "      <td>...</td>\n",
       "      <td>...</td>\n",
       "      <td>...</td>\n",
       "      <td>...</td>\n",
       "      <td>...</td>\n",
       "      <td>...</td>\n",
       "      <td>...</td>\n",
       "    </tr>\n",
       "    <tr>\n",
       "      <th>1494</th>\n",
       "      <td>A7</td>\n",
       "      <td>6-May-06</td>\n",
       "      <td>400375.97</td>\n",
       "      <td>26.0</td>\n",
       "      <td>COCHIN</td>\n",
       "      <td>Silver</td>\n",
       "      <td>100001.0</td>\n",
       "      <td>C7</td>\n",
       "      <td>Salaried_MNC</td>\n",
       "    </tr>\n",
       "    <tr>\n",
       "      <th>1496</th>\n",
       "      <td>A7</td>\n",
       "      <td>3-Dec-05</td>\n",
       "      <td>429700.12</td>\n",
       "      <td>26.0</td>\n",
       "      <td>COCHIN</td>\n",
       "      <td>Silver</td>\n",
       "      <td>100001.0</td>\n",
       "      <td>C7</td>\n",
       "      <td>Salaried_MNC</td>\n",
       "    </tr>\n",
       "    <tr>\n",
       "      <th>1497</th>\n",
       "      <td>A7</td>\n",
       "      <td>23-Feb-05</td>\n",
       "      <td>344628.72</td>\n",
       "      <td>26.0</td>\n",
       "      <td>COCHIN</td>\n",
       "      <td>Silver</td>\n",
       "      <td>100001.0</td>\n",
       "      <td>C7</td>\n",
       "      <td>Salaried_MNC</td>\n",
       "    </tr>\n",
       "    <tr>\n",
       "      <th>1498</th>\n",
       "      <td>A7</td>\n",
       "      <td>31-Mar-06</td>\n",
       "      <td>336264.37</td>\n",
       "      <td>26.0</td>\n",
       "      <td>COCHIN</td>\n",
       "      <td>Silver</td>\n",
       "      <td>100001.0</td>\n",
       "      <td>C7</td>\n",
       "      <td>Salaried_MNC</td>\n",
       "    </tr>\n",
       "    <tr>\n",
       "      <th>1499</th>\n",
       "      <td>A7</td>\n",
       "      <td>3-Jan-04</td>\n",
       "      <td>473662.61</td>\n",
       "      <td>26.0</td>\n",
       "      <td>COCHIN</td>\n",
       "      <td>Silver</td>\n",
       "      <td>100001.0</td>\n",
       "      <td>C7</td>\n",
       "      <td>Salaried_MNC</td>\n",
       "    </tr>\n",
       "  </tbody>\n",
       "</table>\n",
       "<p>600 rows × 9 columns</p>\n",
       "</div>"
      ],
      "text/plain": [
       "     Customer      Month     Amount   Age    City Product     Limit Company  \\\n",
       "18         A8   5-Feb-04  156913.59  67.0   PATNA  Silver  100002.0      C8   \n",
       "19         A8  12-Jan-04  350999.98  67.0   PATNA  Silver  100002.0      C8   \n",
       "20         A8  31-Mar-06  155642.95  67.0   PATNA  Silver  100002.0      C8   \n",
       "21         A8   9-May-05  145457.38  67.0   PATNA  Silver  100002.0      C8   \n",
       "22         A8   8-May-06  361184.89  67.0   PATNA  Silver  100002.0      C8   \n",
       "...       ...        ...        ...   ...     ...     ...       ...     ...   \n",
       "1494       A7   6-May-06  400375.97  26.0  COCHIN  Silver  100001.0      C7   \n",
       "1496       A7   3-Dec-05  429700.12  26.0  COCHIN  Silver  100001.0      C7   \n",
       "1497       A7  23-Feb-05  344628.72  26.0  COCHIN  Silver  100001.0      C7   \n",
       "1498       A7  31-Mar-06  336264.37  26.0  COCHIN  Silver  100001.0      C7   \n",
       "1499       A7   3-Jan-04  473662.61  26.0  COCHIN  Silver  100001.0      C7   \n",
       "\n",
       "           Segment  \n",
       "18    Salaried_Pvt  \n",
       "19    Salaried_Pvt  \n",
       "20    Salaried_Pvt  \n",
       "21    Salaried_Pvt  \n",
       "22    Salaried_Pvt  \n",
       "...            ...  \n",
       "1494  Salaried_MNC  \n",
       "1496  Salaried_MNC  \n",
       "1497  Salaried_MNC  \n",
       "1498  Salaried_MNC  \n",
       "1499  Salaried_MNC  \n",
       "\n",
       "[600 rows x 9 columns]"
      ]
     },
     "execution_count": 35,
     "metadata": {},
     "output_type": "execute_result"
    }
   ],
   "source": [
    "#all the customers where repayment amount is more than the limit.\n",
    "\n",
    "customer_repay[customer_repay[\"Amount\"] > customer_repay[\"Limit\"]]\n"
   ]
  },
  {
   "cell_type": "code",
   "execution_count": null,
   "id": "1182a948",
   "metadata": {},
   "outputs": [],
   "source": []
  },
  {
   "cell_type": "code",
   "execution_count": 36,
   "id": "de408eef",
   "metadata": {
    "ExecuteTime": {
     "end_time": "2023-07-30T12:20:05.924816Z",
     "start_time": "2023-07-30T12:20:05.577444Z"
    }
   },
   "outputs": [],
   "source": [
    "customer_repay.loc[customer_repay[\"Amount\"] > customer_repay[\"Limit\"],\"Amount\"] = customer_repay[\"Limit\"]\n",
    "\n"
   ]
  },
  {
   "cell_type": "code",
   "execution_count": 37,
   "id": "15470548",
   "metadata": {
    "ExecuteTime": {
     "end_time": "2023-07-30T12:20:06.464608Z",
     "start_time": "2023-07-30T12:20:05.924816Z"
    }
   },
   "outputs": [
    {
     "data": {
      "text/html": [
       "<div>\n",
       "<style scoped>\n",
       "    .dataframe tbody tr th:only-of-type {\n",
       "        vertical-align: middle;\n",
       "    }\n",
       "\n",
       "    .dataframe tbody tr th {\n",
       "        vertical-align: top;\n",
       "    }\n",
       "\n",
       "    .dataframe thead th {\n",
       "        text-align: right;\n",
       "    }\n",
       "</style>\n",
       "<table border=\"1\" class=\"dataframe\">\n",
       "  <thead>\n",
       "    <tr style=\"text-align: right;\">\n",
       "      <th></th>\n",
       "      <th>Customer</th>\n",
       "      <th>Month</th>\n",
       "      <th>Amount</th>\n",
       "      <th>Age</th>\n",
       "      <th>City</th>\n",
       "      <th>Product</th>\n",
       "      <th>Limit</th>\n",
       "      <th>Company</th>\n",
       "      <th>Segment</th>\n",
       "    </tr>\n",
       "  </thead>\n",
       "  <tbody>\n",
       "  </tbody>\n",
       "</table>\n",
       "</div>"
      ],
      "text/plain": [
       "Empty DataFrame\n",
       "Columns: [Customer, Month, Amount, Age, City, Product, Limit, Company, Segment]\n",
       "Index: []"
      ]
     },
     "execution_count": 37,
     "metadata": {},
     "output_type": "execute_result"
    }
   ],
   "source": [
    "#there are no customers left where repayment amount is more than the limit.\n",
    "\n",
    "customer_repay[customer_repay[\"Amount\"] > customer_repay[\"Limit\"]]"
   ]
  },
  {
   "cell_type": "code",
   "execution_count": null,
   "id": "5a820361",
   "metadata": {},
   "outputs": [],
   "source": []
  },
  {
   "cell_type": "markdown",
   "id": "36ddaca6",
   "metadata": {},
   "source": [
    "# (2) From the above dataset create the following summaries:"
   ]
  },
  {
   "cell_type": "markdown",
   "id": "e4bbf532",
   "metadata": {},
   "source": [
    "### (a) How many distinct customers exist?"
   ]
  },
  {
   "cell_type": "code",
   "execution_count": 38,
   "id": "69eb80a1",
   "metadata": {
    "ExecuteTime": {
     "end_time": "2023-07-30T12:20:06.942536Z",
     "start_time": "2023-07-30T12:20:06.464608Z"
    }
   },
   "outputs": [
    {
     "name": "stdout",
     "output_type": "stream",
     "text": [
      "Number of distinct customers are 100\n"
     ]
    }
   ],
   "source": [
    "distinct_customers = customer[\"Customer\"].nunique()\n",
    "\n",
    "print(\"Number of distinct customers are\",distinct_customers)\n"
   ]
  },
  {
   "cell_type": "code",
   "execution_count": null,
   "id": "df613c50",
   "metadata": {},
   "outputs": [],
   "source": []
  },
  {
   "cell_type": "markdown",
   "id": "90e9fb0a",
   "metadata": {},
   "source": [
    "### (b) How many distinct categories exist?"
   ]
  },
  {
   "cell_type": "code",
   "execution_count": 39,
   "id": "b40837de",
   "metadata": {
    "ExecuteTime": {
     "end_time": "2023-07-30T12:20:07.379163Z",
     "start_time": "2023-07-30T12:20:06.942536Z"
    }
   },
   "outputs": [
    {
     "data": {
      "text/plain": [
       "Govt             29\n",
       "Self Employed    23\n",
       "Normal Salary    22\n",
       "Salaried_MNC     13\n",
       "Salaried_Pvt     13\n",
       "Name: Segment, dtype: int64"
      ]
     },
     "execution_count": 39,
     "metadata": {},
     "output_type": "execute_result"
    }
   ],
   "source": [
    "customer[\"Segment\"].value_counts()"
   ]
  },
  {
   "cell_type": "code",
   "execution_count": null,
   "id": "4ead536e",
   "metadata": {},
   "outputs": [],
   "source": []
  },
  {
   "cell_type": "code",
   "execution_count": 40,
   "id": "94646b85",
   "metadata": {
    "ExecuteTime": {
     "end_time": "2023-07-30T12:20:10.251990Z",
     "start_time": "2023-07-30T12:20:07.379163Z"
    }
   },
   "outputs": [
    {
     "name": "stderr",
     "output_type": "stream",
     "text": [
      "C:\\Users\\abhij\\Newfolder\\lib\\site-packages\\seaborn\\_decorators.py:36: FutureWarning: Pass the following variable as a keyword arg: x. From version 0.12, the only valid positional argument will be `data`, and passing other arguments without an explicit keyword will result in an error or misinterpretation.\n",
      "  warnings.warn(\n"
     ]
    },
    {
     "data": {
      "image/png": "[encoded data removed]",
      "text/plain": [
       "<Figure size 800x600 with 1 Axes>"
      ]
     },
     "metadata": {},
     "output_type": "display_data"
    }
   ],
   "source": [
    "plt.figure(figsize=(8,6))\n",
    "sns.countplot('Segment',data=customer)\n",
    "plt.show()"
   ]
  },
  {
   "cell_type": "code",
   "execution_count": 41,
   "id": "211ee646",
   "metadata": {
    "ExecuteTime": {
     "end_time": "2023-07-30T12:20:10.267990Z",
     "start_time": "2023-07-30T12:20:10.251990Z"
    }
   },
   "outputs": [
    {
     "name": "stdout",
     "output_type": "stream",
     "text": [
      "The number of distinct categories are 5\n"
     ]
    }
   ],
   "source": [
    "print(\"The number of distinct categories are\", len(customer[\"Segment\"].value_counts()))"
   ]
  },
  {
   "cell_type": "code",
   "execution_count": null,
   "id": "9b496905",
   "metadata": {},
   "outputs": [],
   "source": []
  },
  {
   "cell_type": "markdown",
   "id": "799db28f",
   "metadata": {},
   "source": [
    "### (c) What is the average monthly spend by customers?"
   ]
  },
  {
   "cell_type": "code",
   "execution_count": 42,
   "id": "7c57a1c6",
   "metadata": {
    "ExecuteTime": {
     "end_time": "2023-07-30T12:20:10.578107Z",
     "start_time": "2023-07-30T12:20:10.267990Z"
    }
   },
   "outputs": [
    {
     "data": {
      "text/plain": [
       "Customer     object\n",
       "Month        object\n",
       "Type         object\n",
       "Amount      float64\n",
       "dtype: object"
      ]
     },
     "execution_count": 42,
     "metadata": {},
     "output_type": "execute_result"
    }
   ],
   "source": [
    "spend.dtypes"
   ]
  },
  {
   "cell_type": "code",
   "execution_count": null,
   "id": "59bb19c4",
   "metadata": {
    "ExecuteTime": {
     "end_time": "2023-06-23T14:58:13.411197Z",
     "start_time": "2023-06-23T14:58:13.379169Z"
    }
   },
   "outputs": [],
   "source": []
  },
  {
   "cell_type": "code",
   "execution_count": 43,
   "id": "694c9119",
   "metadata": {
    "ExecuteTime": {
     "end_time": "2023-07-30T12:20:10.958187Z",
     "start_time": "2023-07-30T12:20:10.578372Z"
    }
   },
   "outputs": [],
   "source": [
    "#converting Month column of \"spend\" table to date time format\n",
    "spend['Month'] = pd.to_datetime(spend['Month'])"
   ]
  },
  {
   "cell_type": "code",
   "execution_count": 44,
   "id": "64eeb102",
   "metadata": {
    "ExecuteTime": {
     "end_time": "2023-07-30T12:20:11.267548Z",
     "start_time": "2023-07-30T12:20:10.958187Z"
    }
   },
   "outputs": [
    {
     "data": {
      "text/plain": [
       "Customer            object\n",
       "Month       datetime64[ns]\n",
       "Type                object\n",
       "Amount             float64\n",
       "dtype: object"
      ]
     },
     "execution_count": 44,
     "metadata": {},
     "output_type": "execute_result"
    }
   ],
   "source": [
    "spend.dtypes"
   ]
  },
  {
   "cell_type": "code",
   "execution_count": 45,
   "id": "0084244c",
   "metadata": {
    "ExecuteTime": {
     "end_time": "2023-07-30T12:20:11.668162Z",
     "start_time": "2023-07-30T12:20:11.267548Z"
    }
   },
   "outputs": [
    {
     "data": {
      "text/html": [
       "<div>\n",
       "<style scoped>\n",
       "    .dataframe tbody tr th:only-of-type {\n",
       "        vertical-align: middle;\n",
       "    }\n",
       "\n",
       "    .dataframe tbody tr th {\n",
       "        vertical-align: top;\n",
       "    }\n",
       "\n",
       "    .dataframe thead th {\n",
       "        text-align: right;\n",
       "    }\n",
       "</style>\n",
       "<table border=\"1\" class=\"dataframe\">\n",
       "  <thead>\n",
       "    <tr style=\"text-align: right;\">\n",
       "      <th></th>\n",
       "      <th>Customer</th>\n",
       "      <th>Month</th>\n",
       "      <th>Type</th>\n",
       "      <th>Amount</th>\n",
       "    </tr>\n",
       "  </thead>\n",
       "  <tbody>\n",
       "    <tr>\n",
       "      <th>0</th>\n",
       "      <td>A1</td>\n",
       "      <td>2004-01-12</td>\n",
       "      <td>JEWELLERY</td>\n",
       "      <td>485470.80</td>\n",
       "    </tr>\n",
       "    <tr>\n",
       "      <th>1</th>\n",
       "      <td>A1</td>\n",
       "      <td>2004-01-03</td>\n",
       "      <td>PETRO</td>\n",
       "      <td>410556.13</td>\n",
       "    </tr>\n",
       "    <tr>\n",
       "      <th>2</th>\n",
       "      <td>A1</td>\n",
       "      <td>2004-01-15</td>\n",
       "      <td>CLOTHES</td>\n",
       "      <td>23740.46</td>\n",
       "    </tr>\n",
       "    <tr>\n",
       "      <th>3</th>\n",
       "      <td>A1</td>\n",
       "      <td>2004-01-25</td>\n",
       "      <td>FOOD</td>\n",
       "      <td>484342.47</td>\n",
       "    </tr>\n",
       "    <tr>\n",
       "      <th>4</th>\n",
       "      <td>A1</td>\n",
       "      <td>2005-01-17</td>\n",
       "      <td>CAMERA</td>\n",
       "      <td>369694.07</td>\n",
       "    </tr>\n",
       "  </tbody>\n",
       "</table>\n",
       "</div>"
      ],
      "text/plain": [
       "  Customer      Month       Type     Amount\n",
       "0       A1 2004-01-12  JEWELLERY  485470.80\n",
       "1       A1 2004-01-03      PETRO  410556.13\n",
       "2       A1 2004-01-15    CLOTHES   23740.46\n",
       "3       A1 2004-01-25       FOOD  484342.47\n",
       "4       A1 2005-01-17     CAMERA  369694.07"
      ]
     },
     "execution_count": 45,
     "metadata": {},
     "output_type": "execute_result"
    }
   ],
   "source": [
    "spend.head()"
   ]
  },
  {
   "cell_type": "code",
   "execution_count": 46,
   "id": "c043878b",
   "metadata": {
    "ExecuteTime": {
     "end_time": "2023-07-30T12:20:12.042649Z",
     "start_time": "2023-07-30T12:20:11.668162Z"
    }
   },
   "outputs": [],
   "source": [
    "#creating new columns which show \"Month\" and \"Year\"\n",
    "spend['Monthly'] = spend['Month'].apply(lambda x:pd.Timestamp.strftime(x,format=\"%B\"))\n",
    "spend['Yearly'] = spend['Month'].apply(lambda x:pd.Timestamp.strftime(x,format=\"%Y\"))"
   ]
  },
  {
   "cell_type": "code",
   "execution_count": 47,
   "id": "868a04b6",
   "metadata": {
    "ExecuteTime": {
     "end_time": "2023-07-30T12:20:12.417939Z",
     "start_time": "2023-07-30T12:20:12.042649Z"
    }
   },
   "outputs": [
    {
     "data": {
      "text/html": [
       "<div>\n",
       "<style scoped>\n",
       "    .dataframe tbody tr th:only-of-type {\n",
       "        vertical-align: middle;\n",
       "    }\n",
       "\n",
       "    .dataframe tbody tr th {\n",
       "        vertical-align: top;\n",
       "    }\n",
       "\n",
       "    .dataframe thead th {\n",
       "        text-align: right;\n",
       "    }\n",
       "</style>\n",
       "<table border=\"1\" class=\"dataframe\">\n",
       "  <thead>\n",
       "    <tr style=\"text-align: right;\">\n",
       "      <th></th>\n",
       "      <th>Customer</th>\n",
       "      <th>Month</th>\n",
       "      <th>Type</th>\n",
       "      <th>Amount</th>\n",
       "      <th>Monthly</th>\n",
       "      <th>Yearly</th>\n",
       "    </tr>\n",
       "  </thead>\n",
       "  <tbody>\n",
       "    <tr>\n",
       "      <th>0</th>\n",
       "      <td>A1</td>\n",
       "      <td>2004-01-12</td>\n",
       "      <td>JEWELLERY</td>\n",
       "      <td>485470.80</td>\n",
       "      <td>January</td>\n",
       "      <td>2004</td>\n",
       "    </tr>\n",
       "    <tr>\n",
       "      <th>1</th>\n",
       "      <td>A1</td>\n",
       "      <td>2004-01-03</td>\n",
       "      <td>PETRO</td>\n",
       "      <td>410556.13</td>\n",
       "      <td>January</td>\n",
       "      <td>2004</td>\n",
       "    </tr>\n",
       "    <tr>\n",
       "      <th>2</th>\n",
       "      <td>A1</td>\n",
       "      <td>2004-01-15</td>\n",
       "      <td>CLOTHES</td>\n",
       "      <td>23740.46</td>\n",
       "      <td>January</td>\n",
       "      <td>2004</td>\n",
       "    </tr>\n",
       "    <tr>\n",
       "      <th>3</th>\n",
       "      <td>A1</td>\n",
       "      <td>2004-01-25</td>\n",
       "      <td>FOOD</td>\n",
       "      <td>484342.47</td>\n",
       "      <td>January</td>\n",
       "      <td>2004</td>\n",
       "    </tr>\n",
       "    <tr>\n",
       "      <th>4</th>\n",
       "      <td>A1</td>\n",
       "      <td>2005-01-17</td>\n",
       "      <td>CAMERA</td>\n",
       "      <td>369694.07</td>\n",
       "      <td>January</td>\n",
       "      <td>2005</td>\n",
       "    </tr>\n",
       "  </tbody>\n",
       "</table>\n",
       "</div>"
      ],
      "text/plain": [
       "  Customer      Month       Type     Amount  Monthly Yearly\n",
       "0       A1 2004-01-12  JEWELLERY  485470.80  January   2004\n",
       "1       A1 2004-01-03      PETRO  410556.13  January   2004\n",
       "2       A1 2004-01-15    CLOTHES   23740.46  January   2004\n",
       "3       A1 2004-01-25       FOOD  484342.47  January   2004\n",
       "4       A1 2005-01-17     CAMERA  369694.07  January   2005"
      ]
     },
     "execution_count": 47,
     "metadata": {},
     "output_type": "execute_result"
    }
   ],
   "source": [
    "spend.head()"
   ]
  },
  {
   "cell_type": "code",
   "execution_count": null,
   "id": "3b775bbf",
   "metadata": {},
   "outputs": [],
   "source": []
  },
  {
   "cell_type": "code",
   "execution_count": 48,
   "id": "c45c74b4",
   "metadata": {
    "ExecuteTime": {
     "end_time": "2023-07-30T12:20:12.885350Z",
     "start_time": "2023-07-30T12:20:12.417939Z"
    }
   },
   "outputs": [],
   "source": [
    "#grouping the dataset based on 'Yearly' and 'monthly'\n",
    "customer_spend_group= round(spend.groupby(['Yearly','Monthly']).mean(),2)"
   ]
  },
  {
   "cell_type": "code",
   "execution_count": 49,
   "id": "ab5db338",
   "metadata": {
    "ExecuteTime": {
     "end_time": "2023-07-30T12:20:13.245190Z",
     "start_time": "2023-07-30T12:20:12.885350Z"
    }
   },
   "outputs": [
    {
     "data": {
      "text/html": [
       "<div>\n",
       "<style scoped>\n",
       "    .dataframe tbody tr th:only-of-type {\n",
       "        vertical-align: middle;\n",
       "    }\n",
       "\n",
       "    .dataframe tbody tr th {\n",
       "        vertical-align: top;\n",
       "    }\n",
       "\n",
       "    .dataframe thead th {\n",
       "        text-align: right;\n",
       "    }\n",
       "</style>\n",
       "<table border=\"1\" class=\"dataframe\">\n",
       "  <thead>\n",
       "    <tr style=\"text-align: right;\">\n",
       "      <th></th>\n",
       "      <th></th>\n",
       "      <th>Amount</th>\n",
       "    </tr>\n",
       "    <tr>\n",
       "      <th>Yearly</th>\n",
       "      <th>Monthly</th>\n",
       "      <th></th>\n",
       "    </tr>\n",
       "  </thead>\n",
       "  <tbody>\n",
       "    <tr>\n",
       "      <th rowspan=\"7\" valign=\"top\">2004</th>\n",
       "      <th>April</th>\n",
       "      <td>235272.04</td>\n",
       "    </tr>\n",
       "    <tr>\n",
       "      <th>February</th>\n",
       "      <td>221215.27</td>\n",
       "    </tr>\n",
       "    <tr>\n",
       "      <th>January</th>\n",
       "      <td>251712.07</td>\n",
       "    </tr>\n",
       "    <tr>\n",
       "      <th>March</th>\n",
       "      <td>232146.12</td>\n",
       "    </tr>\n",
       "    <tr>\n",
       "      <th>May</th>\n",
       "      <td>217539.24</td>\n",
       "    </tr>\n",
       "    <tr>\n",
       "      <th>November</th>\n",
       "      <td>270486.40</td>\n",
       "    </tr>\n",
       "    <tr>\n",
       "      <th>September</th>\n",
       "      <td>310923.38</td>\n",
       "    </tr>\n",
       "    <tr>\n",
       "      <th rowspan=\"11\" valign=\"top\">2005</th>\n",
       "      <th>April</th>\n",
       "      <td>252181.33</td>\n",
       "    </tr>\n",
       "    <tr>\n",
       "      <th>August</th>\n",
       "      <td>233734.63</td>\n",
       "    </tr>\n",
       "    <tr>\n",
       "      <th>December</th>\n",
       "      <td>147503.06</td>\n",
       "    </tr>\n",
       "    <tr>\n",
       "      <th>February</th>\n",
       "      <td>229802.28</td>\n",
       "    </tr>\n",
       "    <tr>\n",
       "      <th>January</th>\n",
       "      <td>292741.37</td>\n",
       "    </tr>\n",
       "    <tr>\n",
       "      <th>July</th>\n",
       "      <td>229116.66</td>\n",
       "    </tr>\n",
       "    <tr>\n",
       "      <th>June</th>\n",
       "      <td>262688.11</td>\n",
       "    </tr>\n",
       "    <tr>\n",
       "      <th>May</th>\n",
       "      <td>245696.52</td>\n",
       "    </tr>\n",
       "    <tr>\n",
       "      <th>November</th>\n",
       "      <td>286143.32</td>\n",
       "    </tr>\n",
       "    <tr>\n",
       "      <th>October</th>\n",
       "      <td>194568.64</td>\n",
       "    </tr>\n",
       "    <tr>\n",
       "      <th>September</th>\n",
       "      <td>188666.20</td>\n",
       "    </tr>\n",
       "    <tr>\n",
       "      <th rowspan=\"12\" valign=\"top\">2006</th>\n",
       "      <th>April</th>\n",
       "      <td>232468.97</td>\n",
       "    </tr>\n",
       "    <tr>\n",
       "      <th>August</th>\n",
       "      <td>240699.72</td>\n",
       "    </tr>\n",
       "    <tr>\n",
       "      <th>December</th>\n",
       "      <td>270470.98</td>\n",
       "    </tr>\n",
       "    <tr>\n",
       "      <th>February</th>\n",
       "      <td>253858.26</td>\n",
       "    </tr>\n",
       "    <tr>\n",
       "      <th>January</th>\n",
       "      <td>282058.01</td>\n",
       "    </tr>\n",
       "    <tr>\n",
       "      <th>July</th>\n",
       "      <td>287505.10</td>\n",
       "    </tr>\n",
       "    <tr>\n",
       "      <th>June</th>\n",
       "      <td>177252.39</td>\n",
       "    </tr>\n",
       "    <tr>\n",
       "      <th>March</th>\n",
       "      <td>247166.08</td>\n",
       "    </tr>\n",
       "    <tr>\n",
       "      <th>May</th>\n",
       "      <td>236162.74</td>\n",
       "    </tr>\n",
       "    <tr>\n",
       "      <th>November</th>\n",
       "      <td>182841.29</td>\n",
       "    </tr>\n",
       "    <tr>\n",
       "      <th>October</th>\n",
       "      <td>236136.34</td>\n",
       "    </tr>\n",
       "    <tr>\n",
       "      <th>September</th>\n",
       "      <td>158520.09</td>\n",
       "    </tr>\n",
       "  </tbody>\n",
       "</table>\n",
       "</div>"
      ],
      "text/plain": [
       "                     Amount\n",
       "Yearly Monthly             \n",
       "2004   April      235272.04\n",
       "       February   221215.27\n",
       "       January    251712.07\n",
       "       March      232146.12\n",
       "       May        217539.24\n",
       "       November   270486.40\n",
       "       September  310923.38\n",
       "2005   April      252181.33\n",
       "       August     233734.63\n",
       "       December   147503.06\n",
       "       February   229802.28\n",
       "       January    292741.37\n",
       "       July       229116.66\n",
       "       June       262688.11\n",
       "       May        245696.52\n",
       "       November   286143.32\n",
       "       October    194568.64\n",
       "       September  188666.20\n",
       "2006   April      232468.97\n",
       "       August     240699.72\n",
       "       December   270470.98\n",
       "       February   253858.26\n",
       "       January    282058.01\n",
       "       July       287505.10\n",
       "       June       177252.39\n",
       "       March      247166.08\n",
       "       May        236162.74\n",
       "       November   182841.29\n",
       "       October    236136.34\n",
       "       September  158520.09"
      ]
     },
     "execution_count": 49,
     "metadata": {},
     "output_type": "execute_result"
    }
   ],
   "source": [
    "customer_spend_group"
   ]
  },
  {
   "cell_type": "code",
   "execution_count": null,
   "id": "941d4c10",
   "metadata": {},
   "outputs": [],
   "source": []
  },
  {
   "cell_type": "markdown",
   "id": "e5377d3f",
   "metadata": {},
   "source": [
    "### (d) What is the average monthly repayment by customers?"
   ]
  },
  {
   "cell_type": "code",
   "execution_count": 50,
   "id": "bc50a3f0",
   "metadata": {
    "ExecuteTime": {
     "end_time": "2023-07-30T12:20:13.576973Z",
     "start_time": "2023-07-30T12:20:13.245190Z"
    }
   },
   "outputs": [
    {
     "data": {
      "text/html": [
       "<div>\n",
       "<style scoped>\n",
       "    .dataframe tbody tr th:only-of-type {\n",
       "        vertical-align: middle;\n",
       "    }\n",
       "\n",
       "    .dataframe tbody tr th {\n",
       "        vertical-align: top;\n",
       "    }\n",
       "\n",
       "    .dataframe thead th {\n",
       "        text-align: right;\n",
       "    }\n",
       "</style>\n",
       "<table border=\"1\" class=\"dataframe\">\n",
       "  <thead>\n",
       "    <tr style=\"text-align: right;\">\n",
       "      <th></th>\n",
       "      <th>Customer</th>\n",
       "      <th>Month</th>\n",
       "      <th>Amount</th>\n",
       "    </tr>\n",
       "  </thead>\n",
       "  <tbody>\n",
       "    <tr>\n",
       "      <th>0</th>\n",
       "      <td>A1</td>\n",
       "      <td>12-Jan-04</td>\n",
       "      <td>495414.75</td>\n",
       "    </tr>\n",
       "    <tr>\n",
       "      <th>1</th>\n",
       "      <td>A1</td>\n",
       "      <td>3-Jan-04</td>\n",
       "      <td>245899.02</td>\n",
       "    </tr>\n",
       "    <tr>\n",
       "      <th>2</th>\n",
       "      <td>A1</td>\n",
       "      <td>15-Jan-04</td>\n",
       "      <td>259490.06</td>\n",
       "    </tr>\n",
       "    <tr>\n",
       "      <th>3</th>\n",
       "      <td>A1</td>\n",
       "      <td>25-Jan-04</td>\n",
       "      <td>437555.12</td>\n",
       "    </tr>\n",
       "    <tr>\n",
       "      <th>4</th>\n",
       "      <td>A1</td>\n",
       "      <td>17-Jan-05</td>\n",
       "      <td>165972.88</td>\n",
       "    </tr>\n",
       "  </tbody>\n",
       "</table>\n",
       "</div>"
      ],
      "text/plain": [
       "  Customer      Month     Amount\n",
       "0       A1  12-Jan-04  495414.75\n",
       "1       A1   3-Jan-04  245899.02\n",
       "2       A1  15-Jan-04  259490.06\n",
       "3       A1  25-Jan-04  437555.12\n",
       "4       A1  17-Jan-05  165972.88"
      ]
     },
     "execution_count": 50,
     "metadata": {},
     "output_type": "execute_result"
    }
   ],
   "source": [
    "repay.head()"
   ]
  },
  {
   "cell_type": "code",
   "execution_count": null,
   "id": "568c76be",
   "metadata": {},
   "outputs": [],
   "source": []
  },
  {
   "cell_type": "code",
   "execution_count": 51,
   "id": "2cc82105",
   "metadata": {
    "ExecuteTime": {
     "end_time": "2023-07-30T12:20:13.960701Z",
     "start_time": "2023-07-30T12:20:13.579456Z"
    }
   },
   "outputs": [],
   "source": [
    "#coverting \"Month\" column to date time format\n",
    "repay[\"Month\"] = pd.to_datetime(repay[\"Month\"])"
   ]
  },
  {
   "cell_type": "code",
   "execution_count": 52,
   "id": "63f1c37f",
   "metadata": {
    "ExecuteTime": {
     "end_time": "2023-07-30T12:20:14.428429Z",
     "start_time": "2023-07-30T12:20:13.963641Z"
    }
   },
   "outputs": [
    {
     "data": {
      "text/html": [
       "<div>\n",
       "<style scoped>\n",
       "    .dataframe tbody tr th:only-of-type {\n",
       "        vertical-align: middle;\n",
       "    }\n",
       "\n",
       "    .dataframe tbody tr th {\n",
       "        vertical-align: top;\n",
       "    }\n",
       "\n",
       "    .dataframe thead th {\n",
       "        text-align: right;\n",
       "    }\n",
       "</style>\n",
       "<table border=\"1\" class=\"dataframe\">\n",
       "  <thead>\n",
       "    <tr style=\"text-align: right;\">\n",
       "      <th></th>\n",
       "      <th>Customer</th>\n",
       "      <th>Month</th>\n",
       "      <th>Amount</th>\n",
       "    </tr>\n",
       "  </thead>\n",
       "  <tbody>\n",
       "    <tr>\n",
       "      <th>0</th>\n",
       "      <td>A1</td>\n",
       "      <td>2004-01-12</td>\n",
       "      <td>495414.75</td>\n",
       "    </tr>\n",
       "    <tr>\n",
       "      <th>1</th>\n",
       "      <td>A1</td>\n",
       "      <td>2004-01-03</td>\n",
       "      <td>245899.02</td>\n",
       "    </tr>\n",
       "    <tr>\n",
       "      <th>2</th>\n",
       "      <td>A1</td>\n",
       "      <td>2004-01-15</td>\n",
       "      <td>259490.06</td>\n",
       "    </tr>\n",
       "    <tr>\n",
       "      <th>3</th>\n",
       "      <td>A1</td>\n",
       "      <td>2004-01-25</td>\n",
       "      <td>437555.12</td>\n",
       "    </tr>\n",
       "    <tr>\n",
       "      <th>4</th>\n",
       "      <td>A1</td>\n",
       "      <td>2005-01-17</td>\n",
       "      <td>165972.88</td>\n",
       "    </tr>\n",
       "  </tbody>\n",
       "</table>\n",
       "</div>"
      ],
      "text/plain": [
       "  Customer      Month     Amount\n",
       "0       A1 2004-01-12  495414.75\n",
       "1       A1 2004-01-03  245899.02\n",
       "2       A1 2004-01-15  259490.06\n",
       "3       A1 2004-01-25  437555.12\n",
       "4       A1 2005-01-17  165972.88"
      ]
     },
     "execution_count": 52,
     "metadata": {},
     "output_type": "execute_result"
    }
   ],
   "source": [
    "repay.head()"
   ]
  },
  {
   "cell_type": "code",
   "execution_count": null,
   "id": "852b3737",
   "metadata": {},
   "outputs": [],
   "source": []
  },
  {
   "cell_type": "code",
   "execution_count": 53,
   "id": "a5c19147",
   "metadata": {
    "ExecuteTime": {
     "end_time": "2023-07-30T12:20:14.626847Z",
     "start_time": "2023-07-30T12:20:14.429310Z"
    }
   },
   "outputs": [],
   "source": [
    "repay['Monthly'] = repay['Month'].apply(lambda x:pd.Timestamp.strftime(x,format=\"%B\"))\n",
    "repay['Yearly'] = repay['Month'].apply(lambda x:pd.Timestamp.strftime(x,format=\"%Y\"))"
   ]
  },
  {
   "cell_type": "code",
   "execution_count": 54,
   "id": "f080a659",
   "metadata": {
    "ExecuteTime": {
     "end_time": "2023-07-30T12:20:14.809819Z",
     "start_time": "2023-07-30T12:20:14.629728Z"
    }
   },
   "outputs": [],
   "source": [
    "#grouping the dataset based on 'Yearly' and 'monthly'\n",
    "customer_repay_group= round(repay.groupby(['Yearly','Monthly']).mean(),2)"
   ]
  },
  {
   "cell_type": "code",
   "execution_count": 55,
   "id": "efd00534",
   "metadata": {
    "ExecuteTime": {
     "end_time": "2023-07-30T12:20:14.943508Z",
     "start_time": "2023-07-30T12:20:14.813206Z"
    }
   },
   "outputs": [
    {
     "data": {
      "text/html": [
       "<div>\n",
       "<style scoped>\n",
       "    .dataframe tbody tr th:only-of-type {\n",
       "        vertical-align: middle;\n",
       "    }\n",
       "\n",
       "    .dataframe tbody tr th {\n",
       "        vertical-align: top;\n",
       "    }\n",
       "\n",
       "    .dataframe thead th {\n",
       "        text-align: right;\n",
       "    }\n",
       "</style>\n",
       "<table border=\"1\" class=\"dataframe\">\n",
       "  <thead>\n",
       "    <tr style=\"text-align: right;\">\n",
       "      <th></th>\n",
       "      <th></th>\n",
       "      <th>Amount</th>\n",
       "    </tr>\n",
       "    <tr>\n",
       "      <th>Yearly</th>\n",
       "      <th>Monthly</th>\n",
       "      <th></th>\n",
       "    </tr>\n",
       "  </thead>\n",
       "  <tbody>\n",
       "    <tr>\n",
       "      <th rowspan=\"7\" valign=\"top\">2004</th>\n",
       "      <th>April</th>\n",
       "      <td>259141.68</td>\n",
       "    </tr>\n",
       "    <tr>\n",
       "      <th>February</th>\n",
       "      <td>256702.63</td>\n",
       "    </tr>\n",
       "    <tr>\n",
       "      <th>January</th>\n",
       "      <td>243489.65</td>\n",
       "    </tr>\n",
       "    <tr>\n",
       "      <th>March</th>\n",
       "      <td>252585.28</td>\n",
       "    </tr>\n",
       "    <tr>\n",
       "      <th>May</th>\n",
       "      <td>226162.72</td>\n",
       "    </tr>\n",
       "    <tr>\n",
       "      <th>November</th>\n",
       "      <td>209592.24</td>\n",
       "    </tr>\n",
       "    <tr>\n",
       "      <th>September</th>\n",
       "      <td>184487.85</td>\n",
       "    </tr>\n",
       "    <tr>\n",
       "      <th rowspan=\"11\" valign=\"top\">2005</th>\n",
       "      <th>April</th>\n",
       "      <td>212688.63</td>\n",
       "    </tr>\n",
       "    <tr>\n",
       "      <th>August</th>\n",
       "      <td>264430.92</td>\n",
       "    </tr>\n",
       "    <tr>\n",
       "      <th>December</th>\n",
       "      <td>320379.34</td>\n",
       "    </tr>\n",
       "    <tr>\n",
       "      <th>February</th>\n",
       "      <td>238829.27</td>\n",
       "    </tr>\n",
       "    <tr>\n",
       "      <th>January</th>\n",
       "      <td>240548.10</td>\n",
       "    </tr>\n",
       "    <tr>\n",
       "      <th>July</th>\n",
       "      <td>239871.48</td>\n",
       "    </tr>\n",
       "    <tr>\n",
       "      <th>June</th>\n",
       "      <td>210199.82</td>\n",
       "    </tr>\n",
       "    <tr>\n",
       "      <th>May</th>\n",
       "      <td>263207.37</td>\n",
       "    </tr>\n",
       "    <tr>\n",
       "      <th>November</th>\n",
       "      <td>256695.12</td>\n",
       "    </tr>\n",
       "    <tr>\n",
       "      <th>October</th>\n",
       "      <td>219849.96</td>\n",
       "    </tr>\n",
       "    <tr>\n",
       "      <th>September</th>\n",
       "      <td>247700.17</td>\n",
       "    </tr>\n",
       "    <tr>\n",
       "      <th rowspan=\"12\" valign=\"top\">2006</th>\n",
       "      <th>April</th>\n",
       "      <td>275472.25</td>\n",
       "    </tr>\n",
       "    <tr>\n",
       "      <th>August</th>\n",
       "      <td>224143.99</td>\n",
       "    </tr>\n",
       "    <tr>\n",
       "      <th>December</th>\n",
       "      <td>252736.57</td>\n",
       "    </tr>\n",
       "    <tr>\n",
       "      <th>February</th>\n",
       "      <td>284489.57</td>\n",
       "    </tr>\n",
       "    <tr>\n",
       "      <th>January</th>\n",
       "      <td>293475.39</td>\n",
       "    </tr>\n",
       "    <tr>\n",
       "      <th>July</th>\n",
       "      <td>257936.38</td>\n",
       "    </tr>\n",
       "    <tr>\n",
       "      <th>June</th>\n",
       "      <td>251990.45</td>\n",
       "    </tr>\n",
       "    <tr>\n",
       "      <th>March</th>\n",
       "      <td>240851.27</td>\n",
       "    </tr>\n",
       "    <tr>\n",
       "      <th>May</th>\n",
       "      <td>256920.88</td>\n",
       "    </tr>\n",
       "    <tr>\n",
       "      <th>November</th>\n",
       "      <td>199399.20</td>\n",
       "    </tr>\n",
       "    <tr>\n",
       "      <th>October</th>\n",
       "      <td>260765.48</td>\n",
       "    </tr>\n",
       "    <tr>\n",
       "      <th>September</th>\n",
       "      <td>262533.88</td>\n",
       "    </tr>\n",
       "  </tbody>\n",
       "</table>\n",
       "</div>"
      ],
      "text/plain": [
       "                     Amount\n",
       "Yearly Monthly             \n",
       "2004   April      259141.68\n",
       "       February   256702.63\n",
       "       January    243489.65\n",
       "       March      252585.28\n",
       "       May        226162.72\n",
       "       November   209592.24\n",
       "       September  184487.85\n",
       "2005   April      212688.63\n",
       "       August     264430.92\n",
       "       December   320379.34\n",
       "       February   238829.27\n",
       "       January    240548.10\n",
       "       July       239871.48\n",
       "       June       210199.82\n",
       "       May        263207.37\n",
       "       November   256695.12\n",
       "       October    219849.96\n",
       "       September  247700.17\n",
       "2006   April      275472.25\n",
       "       August     224143.99\n",
       "       December   252736.57\n",
       "       February   284489.57\n",
       "       January    293475.39\n",
       "       July       257936.38\n",
       "       June       251990.45\n",
       "       March      240851.27\n",
       "       May        256920.88\n",
       "       November   199399.20\n",
       "       October    260765.48\n",
       "       September  262533.88"
      ]
     },
     "execution_count": 55,
     "metadata": {},
     "output_type": "execute_result"
    }
   ],
   "source": [
    "customer_repay_group"
   ]
  },
  {
   "cell_type": "code",
   "execution_count": null,
   "id": "7a131699",
   "metadata": {},
   "outputs": [],
   "source": []
  },
  {
   "cell_type": "markdown",
   "id": "7a767bc0",
   "metadata": {},
   "source": [
    "# (e) If the monthly rate of interest is 2.9%, what is the profit for the bank for each month"
   ]
  },
  {
   "cell_type": "code",
   "execution_count": 56,
   "id": "4bad0016",
   "metadata": {
    "ExecuteTime": {
     "end_time": "2023-07-30T12:48:02.687498Z",
     "start_time": "2023-07-30T12:48:02.603662Z"
    }
   },
   "outputs": [],
   "source": [
    "customer_spend_repay = pd.merge(left=customer_spend,right=repay,on=\"Customer\",how=\"inner\")"
   ]
  },
  {
   "cell_type": "code",
   "execution_count": 57,
   "id": "7e941164",
   "metadata": {
    "ExecuteTime": {
     "end_time": "2023-07-30T12:48:49.370321Z",
     "start_time": "2023-07-30T12:48:31.727348Z"
    }
   },
   "outputs": [],
   "source": [
    "customer_spend_repay.rename(columns={\"Amount_x\":\"Spend_Amount\",\"Amount_y\":\"Repay_Amount\"},inplace=True)"
   ]
  },
  {
   "cell_type": "code",
   "execution_count": 58,
   "id": "503833b6",
   "metadata": {
    "ExecuteTime": {
     "end_time": "2023-07-30T12:51:22.743787Z",
     "start_time": "2023-07-30T12:51:22.663027Z"
    }
   },
   "outputs": [
    {
     "name": "stderr",
     "output_type": "stream",
     "text": [
      "C:\\Users\\abhij\\AppData\\Local\\Temp\\ipykernel_8232\\3229966275.py:1: FutureWarning: Indexing with multiple keys (implicitly converted to a tuple of keys) will be deprecated, use a list instead.\n",
      "  interest_group = customer_spend_repay.groupby([\"Yearly\",\"Monthly\"])['Spend_Amount','Repay_Amount'].sum()\n"
     ]
    }
   ],
   "source": [
    "interest_group = customer_spend_repay.groupby([\"Yearly\",\"Monthly\"])['Spend_Amount','Repay_Amount'].sum()"
   ]
  },
  {
   "cell_type": "code",
   "execution_count": 59,
   "id": "27c929ad",
   "metadata": {
    "ExecuteTime": {
     "end_time": "2023-07-30T12:51:39.763648Z",
     "start_time": "2023-07-30T12:51:39.699613Z"
    }
   },
   "outputs": [
    {
     "data": {
      "text/html": [
       "<div>\n",
       "<style scoped>\n",
       "    .dataframe tbody tr th:only-of-type {\n",
       "        vertical-align: middle;\n",
       "    }\n",
       "\n",
       "    .dataframe tbody tr th {\n",
       "        vertical-align: top;\n",
       "    }\n",
       "\n",
       "    .dataframe thead th {\n",
       "        text-align: right;\n",
       "    }\n",
       "</style>\n",
       "<table border=\"1\" class=\"dataframe\">\n",
       "  <thead>\n",
       "    <tr style=\"text-align: right;\">\n",
       "      <th></th>\n",
       "      <th></th>\n",
       "      <th>Spend_Amount</th>\n",
       "      <th>Repay_Amount</th>\n",
       "    </tr>\n",
       "    <tr>\n",
       "      <th>Yearly</th>\n",
       "      <th>Monthly</th>\n",
       "      <th></th>\n",
       "      <th></th>\n",
       "    </tr>\n",
       "  </thead>\n",
       "  <tbody>\n",
       "    <tr>\n",
       "      <th rowspan=\"7\" valign=\"top\">2004</th>\n",
       "      <th>April</th>\n",
       "      <td>1.194516e+08</td>\n",
       "      <td>2.285403e+08</td>\n",
       "    </tr>\n",
       "    <tr>\n",
       "      <th>February</th>\n",
       "      <td>7.613922e+07</td>\n",
       "      <td>1.602419e+08</td>\n",
       "    </tr>\n",
       "    <tr>\n",
       "      <th>January</th>\n",
       "      <td>1.088357e+09</td>\n",
       "      <td>1.699210e+09</td>\n",
       "    </tr>\n",
       "    <tr>\n",
       "      <th>March</th>\n",
       "      <td>5.594171e+07</td>\n",
       "      <td>8.974470e+07</td>\n",
       "    </tr>\n",
       "    <tr>\n",
       "      <th>May</th>\n",
       "      <td>8.800456e+07</td>\n",
       "      <td>1.411594e+08</td>\n",
       "    </tr>\n",
       "    <tr>\n",
       "      <th>November</th>\n",
       "      <td>5.504612e+07</td>\n",
       "      <td>7.860290e+07</td>\n",
       "    </tr>\n",
       "    <tr>\n",
       "      <th>September</th>\n",
       "      <td>5.144278e+07</td>\n",
       "      <td>8.016122e+07</td>\n",
       "    </tr>\n",
       "    <tr>\n",
       "      <th rowspan=\"11\" valign=\"top\">2005</th>\n",
       "      <th>April</th>\n",
       "      <td>9.366405e+07</td>\n",
       "      <td>1.747894e+08</td>\n",
       "    </tr>\n",
       "    <tr>\n",
       "      <th>August</th>\n",
       "      <td>1.361400e+08</td>\n",
       "      <td>2.477449e+08</td>\n",
       "    </tr>\n",
       "    <tr>\n",
       "      <th>December</th>\n",
       "      <td>4.348638e+07</td>\n",
       "      <td>9.944533e+07</td>\n",
       "    </tr>\n",
       "    <tr>\n",
       "      <th>February</th>\n",
       "      <td>5.890557e+08</td>\n",
       "      <td>9.416163e+08</td>\n",
       "    </tr>\n",
       "    <tr>\n",
       "      <th>January</th>\n",
       "      <td>1.324129e+08</td>\n",
       "      <td>1.810333e+08</td>\n",
       "    </tr>\n",
       "    <tr>\n",
       "      <th>July</th>\n",
       "      <td>3.995653e+07</td>\n",
       "      <td>7.997268e+07</td>\n",
       "    </tr>\n",
       "    <tr>\n",
       "      <th>June</th>\n",
       "      <td>1.174019e+08</td>\n",
       "      <td>2.213774e+08</td>\n",
       "    </tr>\n",
       "    <tr>\n",
       "      <th>May</th>\n",
       "      <td>7.149030e+08</td>\n",
       "      <td>1.099197e+09</td>\n",
       "    </tr>\n",
       "    <tr>\n",
       "      <th>November</th>\n",
       "      <td>1.532278e+08</td>\n",
       "      <td>2.763119e+08</td>\n",
       "    </tr>\n",
       "    <tr>\n",
       "      <th>October</th>\n",
       "      <td>3.140993e+07</td>\n",
       "      <td>6.027830e+07</td>\n",
       "    </tr>\n",
       "    <tr>\n",
       "      <th>September</th>\n",
       "      <td>3.195551e+07</td>\n",
       "      <td>7.530449e+07</td>\n",
       "    </tr>\n",
       "    <tr>\n",
       "      <th rowspan=\"12\" valign=\"top\">2006</th>\n",
       "      <th>April</th>\n",
       "      <td>3.229722e+08</td>\n",
       "      <td>6.093666e+08</td>\n",
       "    </tr>\n",
       "    <tr>\n",
       "      <th>August</th>\n",
       "      <td>5.849630e+07</td>\n",
       "      <td>7.167032e+07</td>\n",
       "    </tr>\n",
       "    <tr>\n",
       "      <th>December</th>\n",
       "      <td>4.585222e+07</td>\n",
       "      <td>7.087702e+07</td>\n",
       "    </tr>\n",
       "    <tr>\n",
       "      <th>February</th>\n",
       "      <td>1.654843e+08</td>\n",
       "      <td>2.903280e+08</td>\n",
       "    </tr>\n",
       "    <tr>\n",
       "      <th>January</th>\n",
       "      <td>5.127574e+07</td>\n",
       "      <td>8.974491e+07</td>\n",
       "    </tr>\n",
       "    <tr>\n",
       "      <th>July</th>\n",
       "      <td>1.444093e+08</td>\n",
       "      <td>2.245720e+08</td>\n",
       "    </tr>\n",
       "    <tr>\n",
       "      <th>June</th>\n",
       "      <td>5.302118e+07</td>\n",
       "      <td>6.914431e+07</td>\n",
       "    </tr>\n",
       "    <tr>\n",
       "      <th>March</th>\n",
       "      <td>7.393854e+08</td>\n",
       "      <td>1.115725e+09</td>\n",
       "    </tr>\n",
       "    <tr>\n",
       "      <th>May</th>\n",
       "      <td>3.297954e+08</td>\n",
       "      <td>5.434823e+08</td>\n",
       "    </tr>\n",
       "    <tr>\n",
       "      <th>November</th>\n",
       "      <td>1.124836e+08</td>\n",
       "      <td>1.355832e+08</td>\n",
       "    </tr>\n",
       "    <tr>\n",
       "      <th>October</th>\n",
       "      <td>5.285823e+07</td>\n",
       "      <td>7.890924e+07</td>\n",
       "    </tr>\n",
       "    <tr>\n",
       "      <th>September</th>\n",
       "      <td>5.395681e+07</td>\n",
       "      <td>8.083199e+07</td>\n",
       "    </tr>\n",
       "  </tbody>\n",
       "</table>\n",
       "</div>"
      ],
      "text/plain": [
       "                  Spend_Amount  Repay_Amount\n",
       "Yearly Monthly                              \n",
       "2004   April      1.194516e+08  2.285403e+08\n",
       "       February   7.613922e+07  1.602419e+08\n",
       "       January    1.088357e+09  1.699210e+09\n",
       "       March      5.594171e+07  8.974470e+07\n",
       "       May        8.800456e+07  1.411594e+08\n",
       "       November   5.504612e+07  7.860290e+07\n",
       "       September  5.144278e+07  8.016122e+07\n",
       "2005   April      9.366405e+07  1.747894e+08\n",
       "       August     1.361400e+08  2.477449e+08\n",
       "       December   4.348638e+07  9.944533e+07\n",
       "       February   5.890557e+08  9.416163e+08\n",
       "       January    1.324129e+08  1.810333e+08\n",
       "       July       3.995653e+07  7.997268e+07\n",
       "       June       1.174019e+08  2.213774e+08\n",
       "       May        7.149030e+08  1.099197e+09\n",
       "       November   1.532278e+08  2.763119e+08\n",
       "       October    3.140993e+07  6.027830e+07\n",
       "       September  3.195551e+07  7.530449e+07\n",
       "2006   April      3.229722e+08  6.093666e+08\n",
       "       August     5.849630e+07  7.167032e+07\n",
       "       December   4.585222e+07  7.087702e+07\n",
       "       February   1.654843e+08  2.903280e+08\n",
       "       January    5.127574e+07  8.974491e+07\n",
       "       July       1.444093e+08  2.245720e+08\n",
       "       June       5.302118e+07  6.914431e+07\n",
       "       March      7.393854e+08  1.115725e+09\n",
       "       May        3.297954e+08  5.434823e+08\n",
       "       November   1.124836e+08  1.355832e+08\n",
       "       October    5.285823e+07  7.890924e+07\n",
       "       September  5.395681e+07  8.083199e+07"
      ]
     },
     "execution_count": 59,
     "metadata": {},
     "output_type": "execute_result"
    }
   ],
   "source": [
    "interest_group"
   ]
  },
  {
   "cell_type": "code",
   "execution_count": 60,
   "id": "bc466472",
   "metadata": {
    "ExecuteTime": {
     "end_time": "2023-07-30T12:53:34.040938Z",
     "start_time": "2023-07-30T12:53:34.016919Z"
    }
   },
   "outputs": [],
   "source": [
    " # Monthly Profit = Monthly repayment – Monthly spend.\n",
    "    \n",
    "    \n",
    "interest_group['Monthly Profit'] = interest_group['Repay_Amount'] - interest_group['Spend_Amount']"
   ]
  },
  {
   "cell_type": "code",
   "execution_count": 61,
   "id": "c405a086",
   "metadata": {
    "ExecuteTime": {
     "end_time": "2023-07-30T12:53:57.063228Z",
     "start_time": "2023-07-30T12:53:57.006982Z"
    }
   },
   "outputs": [
    {
     "data": {
      "text/html": [
       "<div>\n",
       "<style scoped>\n",
       "    .dataframe tbody tr th:only-of-type {\n",
       "        vertical-align: middle;\n",
       "    }\n",
       "\n",
       "    .dataframe tbody tr th {\n",
       "        vertical-align: top;\n",
       "    }\n",
       "\n",
       "    .dataframe thead th {\n",
       "        text-align: right;\n",
       "    }\n",
       "</style>\n",
       "<table border=\"1\" class=\"dataframe\">\n",
       "  <thead>\n",
       "    <tr style=\"text-align: right;\">\n",
       "      <th></th>\n",
       "      <th></th>\n",
       "      <th>Spend_Amount</th>\n",
       "      <th>Repay_Amount</th>\n",
       "      <th>Monthly Profit</th>\n",
       "    </tr>\n",
       "    <tr>\n",
       "      <th>Yearly</th>\n",
       "      <th>Monthly</th>\n",
       "      <th></th>\n",
       "      <th></th>\n",
       "      <th></th>\n",
       "    </tr>\n",
       "  </thead>\n",
       "  <tbody>\n",
       "    <tr>\n",
       "      <th rowspan=\"7\" valign=\"top\">2004</th>\n",
       "      <th>April</th>\n",
       "      <td>1.194516e+08</td>\n",
       "      <td>2.285403e+08</td>\n",
       "      <td>1.090887e+08</td>\n",
       "    </tr>\n",
       "    <tr>\n",
       "      <th>February</th>\n",
       "      <td>7.613922e+07</td>\n",
       "      <td>1.602419e+08</td>\n",
       "      <td>8.410268e+07</td>\n",
       "    </tr>\n",
       "    <tr>\n",
       "      <th>January</th>\n",
       "      <td>1.088357e+09</td>\n",
       "      <td>1.699210e+09</td>\n",
       "      <td>6.108525e+08</td>\n",
       "    </tr>\n",
       "    <tr>\n",
       "      <th>March</th>\n",
       "      <td>5.594171e+07</td>\n",
       "      <td>8.974470e+07</td>\n",
       "      <td>3.380298e+07</td>\n",
       "    </tr>\n",
       "    <tr>\n",
       "      <th>May</th>\n",
       "      <td>8.800456e+07</td>\n",
       "      <td>1.411594e+08</td>\n",
       "      <td>5.315485e+07</td>\n",
       "    </tr>\n",
       "    <tr>\n",
       "      <th>November</th>\n",
       "      <td>5.504612e+07</td>\n",
       "      <td>7.860290e+07</td>\n",
       "      <td>2.355678e+07</td>\n",
       "    </tr>\n",
       "    <tr>\n",
       "      <th>September</th>\n",
       "      <td>5.144278e+07</td>\n",
       "      <td>8.016122e+07</td>\n",
       "      <td>2.871844e+07</td>\n",
       "    </tr>\n",
       "    <tr>\n",
       "      <th rowspan=\"11\" valign=\"top\">2005</th>\n",
       "      <th>April</th>\n",
       "      <td>9.366405e+07</td>\n",
       "      <td>1.747894e+08</td>\n",
       "      <td>8.112539e+07</td>\n",
       "    </tr>\n",
       "    <tr>\n",
       "      <th>August</th>\n",
       "      <td>1.361400e+08</td>\n",
       "      <td>2.477449e+08</td>\n",
       "      <td>1.116049e+08</td>\n",
       "    </tr>\n",
       "    <tr>\n",
       "      <th>December</th>\n",
       "      <td>4.348638e+07</td>\n",
       "      <td>9.944533e+07</td>\n",
       "      <td>5.595895e+07</td>\n",
       "    </tr>\n",
       "    <tr>\n",
       "      <th>February</th>\n",
       "      <td>5.890557e+08</td>\n",
       "      <td>9.416163e+08</td>\n",
       "      <td>3.525606e+08</td>\n",
       "    </tr>\n",
       "    <tr>\n",
       "      <th>January</th>\n",
       "      <td>1.324129e+08</td>\n",
       "      <td>1.810333e+08</td>\n",
       "      <td>4.862042e+07</td>\n",
       "    </tr>\n",
       "    <tr>\n",
       "      <th>July</th>\n",
       "      <td>3.995653e+07</td>\n",
       "      <td>7.997268e+07</td>\n",
       "      <td>4.001615e+07</td>\n",
       "    </tr>\n",
       "    <tr>\n",
       "      <th>June</th>\n",
       "      <td>1.174019e+08</td>\n",
       "      <td>2.213774e+08</td>\n",
       "      <td>1.039755e+08</td>\n",
       "    </tr>\n",
       "    <tr>\n",
       "      <th>May</th>\n",
       "      <td>7.149030e+08</td>\n",
       "      <td>1.099197e+09</td>\n",
       "      <td>3.842944e+08</td>\n",
       "    </tr>\n",
       "    <tr>\n",
       "      <th>November</th>\n",
       "      <td>1.532278e+08</td>\n",
       "      <td>2.763119e+08</td>\n",
       "      <td>1.230841e+08</td>\n",
       "    </tr>\n",
       "    <tr>\n",
       "      <th>October</th>\n",
       "      <td>3.140993e+07</td>\n",
       "      <td>6.027830e+07</td>\n",
       "      <td>2.886837e+07</td>\n",
       "    </tr>\n",
       "    <tr>\n",
       "      <th>September</th>\n",
       "      <td>3.195551e+07</td>\n",
       "      <td>7.530449e+07</td>\n",
       "      <td>4.334898e+07</td>\n",
       "    </tr>\n",
       "    <tr>\n",
       "      <th rowspan=\"12\" valign=\"top\">2006</th>\n",
       "      <th>April</th>\n",
       "      <td>3.229722e+08</td>\n",
       "      <td>6.093666e+08</td>\n",
       "      <td>2.863944e+08</td>\n",
       "    </tr>\n",
       "    <tr>\n",
       "      <th>August</th>\n",
       "      <td>5.849630e+07</td>\n",
       "      <td>7.167032e+07</td>\n",
       "      <td>1.317402e+07</td>\n",
       "    </tr>\n",
       "    <tr>\n",
       "      <th>December</th>\n",
       "      <td>4.585222e+07</td>\n",
       "      <td>7.087702e+07</td>\n",
       "      <td>2.502480e+07</td>\n",
       "    </tr>\n",
       "    <tr>\n",
       "      <th>February</th>\n",
       "      <td>1.654843e+08</td>\n",
       "      <td>2.903280e+08</td>\n",
       "      <td>1.248436e+08</td>\n",
       "    </tr>\n",
       "    <tr>\n",
       "      <th>January</th>\n",
       "      <td>5.127574e+07</td>\n",
       "      <td>8.974491e+07</td>\n",
       "      <td>3.846917e+07</td>\n",
       "    </tr>\n",
       "    <tr>\n",
       "      <th>July</th>\n",
       "      <td>1.444093e+08</td>\n",
       "      <td>2.245720e+08</td>\n",
       "      <td>8.016271e+07</td>\n",
       "    </tr>\n",
       "    <tr>\n",
       "      <th>June</th>\n",
       "      <td>5.302118e+07</td>\n",
       "      <td>6.914431e+07</td>\n",
       "      <td>1.612313e+07</td>\n",
       "    </tr>\n",
       "    <tr>\n",
       "      <th>March</th>\n",
       "      <td>7.393854e+08</td>\n",
       "      <td>1.115725e+09</td>\n",
       "      <td>3.763400e+08</td>\n",
       "    </tr>\n",
       "    <tr>\n",
       "      <th>May</th>\n",
       "      <td>3.297954e+08</td>\n",
       "      <td>5.434823e+08</td>\n",
       "      <td>2.136869e+08</td>\n",
       "    </tr>\n",
       "    <tr>\n",
       "      <th>November</th>\n",
       "      <td>1.124836e+08</td>\n",
       "      <td>1.355832e+08</td>\n",
       "      <td>2.309955e+07</td>\n",
       "    </tr>\n",
       "    <tr>\n",
       "      <th>October</th>\n",
       "      <td>5.285823e+07</td>\n",
       "      <td>7.890924e+07</td>\n",
       "      <td>2.605102e+07</td>\n",
       "    </tr>\n",
       "    <tr>\n",
       "      <th>September</th>\n",
       "      <td>5.395681e+07</td>\n",
       "      <td>8.083199e+07</td>\n",
       "      <td>2.687518e+07</td>\n",
       "    </tr>\n",
       "  </tbody>\n",
       "</table>\n",
       "</div>"
      ],
      "text/plain": [
       "                  Spend_Amount  Repay_Amount  Monthly Profit\n",
       "Yearly Monthly                                              \n",
       "2004   April      1.194516e+08  2.285403e+08    1.090887e+08\n",
       "       February   7.613922e+07  1.602419e+08    8.410268e+07\n",
       "       January    1.088357e+09  1.699210e+09    6.108525e+08\n",
       "       March      5.594171e+07  8.974470e+07    3.380298e+07\n",
       "       May        8.800456e+07  1.411594e+08    5.315485e+07\n",
       "       November   5.504612e+07  7.860290e+07    2.355678e+07\n",
       "       September  5.144278e+07  8.016122e+07    2.871844e+07\n",
       "2005   April      9.366405e+07  1.747894e+08    8.112539e+07\n",
       "       August     1.361400e+08  2.477449e+08    1.116049e+08\n",
       "       December   4.348638e+07  9.944533e+07    5.595895e+07\n",
       "       February   5.890557e+08  9.416163e+08    3.525606e+08\n",
       "       January    1.324129e+08  1.810333e+08    4.862042e+07\n",
       "       July       3.995653e+07  7.997268e+07    4.001615e+07\n",
       "       June       1.174019e+08  2.213774e+08    1.039755e+08\n",
       "       May        7.149030e+08  1.099197e+09    3.842944e+08\n",
       "       November   1.532278e+08  2.763119e+08    1.230841e+08\n",
       "       October    3.140993e+07  6.027830e+07    2.886837e+07\n",
       "       September  3.195551e+07  7.530449e+07    4.334898e+07\n",
       "2006   April      3.229722e+08  6.093666e+08    2.863944e+08\n",
       "       August     5.849630e+07  7.167032e+07    1.317402e+07\n",
       "       December   4.585222e+07  7.087702e+07    2.502480e+07\n",
       "       February   1.654843e+08  2.903280e+08    1.248436e+08\n",
       "       January    5.127574e+07  8.974491e+07    3.846917e+07\n",
       "       July       1.444093e+08  2.245720e+08    8.016271e+07\n",
       "       June       5.302118e+07  6.914431e+07    1.612313e+07\n",
       "       March      7.393854e+08  1.115725e+09    3.763400e+08\n",
       "       May        3.297954e+08  5.434823e+08    2.136869e+08\n",
       "       November   1.124836e+08  1.355832e+08    2.309955e+07\n",
       "       October    5.285823e+07  7.890924e+07    2.605102e+07\n",
       "       September  5.395681e+07  8.083199e+07    2.687518e+07"
      ]
     },
     "execution_count": 61,
     "metadata": {},
     "output_type": "execute_result"
    }
   ],
   "source": [
    "interest_group"
   ]
  },
  {
   "cell_type": "code",
   "execution_count": null,
   "id": "2b835971",
   "metadata": {},
   "outputs": [],
   "source": []
  },
  {
   "cell_type": "code",
   "execution_count": 62,
   "id": "5e495fb7",
   "metadata": {
    "ExecuteTime": {
     "end_time": "2023-07-30T12:54:51.160399Z",
     "start_time": "2023-07-30T12:54:51.104383Z"
    }
   },
   "outputs": [
    {
     "data": {
      "text/html": [
       "<div>\n",
       "<style scoped>\n",
       "    .dataframe tbody tr th:only-of-type {\n",
       "        vertical-align: middle;\n",
       "    }\n",
       "\n",
       "    .dataframe tbody tr th {\n",
       "        vertical-align: top;\n",
       "    }\n",
       "\n",
       "    .dataframe thead th {\n",
       "        text-align: right;\n",
       "    }\n",
       "</style>\n",
       "<table border=\"1\" class=\"dataframe\">\n",
       "  <thead>\n",
       "    <tr style=\"text-align: right;\">\n",
       "      <th></th>\n",
       "      <th></th>\n",
       "      <th>Spend_Amount</th>\n",
       "      <th>Repay_Amount</th>\n",
       "      <th>Monthly Profit</th>\n",
       "      <th>Interest Earned</th>\n",
       "    </tr>\n",
       "    <tr>\n",
       "      <th>Yearly</th>\n",
       "      <th>Monthly</th>\n",
       "      <th></th>\n",
       "      <th></th>\n",
       "      <th></th>\n",
       "      <th></th>\n",
       "    </tr>\n",
       "  </thead>\n",
       "  <tbody>\n",
       "    <tr>\n",
       "      <th rowspan=\"7\" valign=\"top\">2004</th>\n",
       "      <th>April</th>\n",
       "      <td>1.194516e+08</td>\n",
       "      <td>2.285403e+08</td>\n",
       "      <td>1.090887e+08</td>\n",
       "      <td>3.163572e+06</td>\n",
       "    </tr>\n",
       "    <tr>\n",
       "      <th>February</th>\n",
       "      <td>7.613922e+07</td>\n",
       "      <td>1.602419e+08</td>\n",
       "      <td>8.410268e+07</td>\n",
       "      <td>2.438978e+06</td>\n",
       "    </tr>\n",
       "    <tr>\n",
       "      <th>January</th>\n",
       "      <td>1.088357e+09</td>\n",
       "      <td>1.699210e+09</td>\n",
       "      <td>6.108525e+08</td>\n",
       "      <td>1.771472e+07</td>\n",
       "    </tr>\n",
       "    <tr>\n",
       "      <th>March</th>\n",
       "      <td>5.594171e+07</td>\n",
       "      <td>8.974470e+07</td>\n",
       "      <td>3.380298e+07</td>\n",
       "      <td>9.802865e+05</td>\n",
       "    </tr>\n",
       "    <tr>\n",
       "      <th>May</th>\n",
       "      <td>8.800456e+07</td>\n",
       "      <td>1.411594e+08</td>\n",
       "      <td>5.315485e+07</td>\n",
       "      <td>1.541491e+06</td>\n",
       "    </tr>\n",
       "    <tr>\n",
       "      <th>November</th>\n",
       "      <td>5.504612e+07</td>\n",
       "      <td>7.860290e+07</td>\n",
       "      <td>2.355678e+07</td>\n",
       "      <td>6.831466e+05</td>\n",
       "    </tr>\n",
       "    <tr>\n",
       "      <th>September</th>\n",
       "      <td>5.144278e+07</td>\n",
       "      <td>8.016122e+07</td>\n",
       "      <td>2.871844e+07</td>\n",
       "      <td>8.328349e+05</td>\n",
       "    </tr>\n",
       "    <tr>\n",
       "      <th rowspan=\"11\" valign=\"top\">2005</th>\n",
       "      <th>April</th>\n",
       "      <td>9.366405e+07</td>\n",
       "      <td>1.747894e+08</td>\n",
       "      <td>8.112539e+07</td>\n",
       "      <td>2.352636e+06</td>\n",
       "    </tr>\n",
       "    <tr>\n",
       "      <th>August</th>\n",
       "      <td>1.361400e+08</td>\n",
       "      <td>2.477449e+08</td>\n",
       "      <td>1.116049e+08</td>\n",
       "      <td>3.236542e+06</td>\n",
       "    </tr>\n",
       "    <tr>\n",
       "      <th>December</th>\n",
       "      <td>4.348638e+07</td>\n",
       "      <td>9.944533e+07</td>\n",
       "      <td>5.595895e+07</td>\n",
       "      <td>1.622810e+06</td>\n",
       "    </tr>\n",
       "    <tr>\n",
       "      <th>February</th>\n",
       "      <td>5.890557e+08</td>\n",
       "      <td>9.416163e+08</td>\n",
       "      <td>3.525606e+08</td>\n",
       "      <td>1.022426e+07</td>\n",
       "    </tr>\n",
       "    <tr>\n",
       "      <th>January</th>\n",
       "      <td>1.324129e+08</td>\n",
       "      <td>1.810333e+08</td>\n",
       "      <td>4.862042e+07</td>\n",
       "      <td>1.409992e+06</td>\n",
       "    </tr>\n",
       "    <tr>\n",
       "      <th>July</th>\n",
       "      <td>3.995653e+07</td>\n",
       "      <td>7.997268e+07</td>\n",
       "      <td>4.001615e+07</td>\n",
       "      <td>1.160468e+06</td>\n",
       "    </tr>\n",
       "    <tr>\n",
       "      <th>June</th>\n",
       "      <td>1.174019e+08</td>\n",
       "      <td>2.213774e+08</td>\n",
       "      <td>1.039755e+08</td>\n",
       "      <td>3.015290e+06</td>\n",
       "    </tr>\n",
       "    <tr>\n",
       "      <th>May</th>\n",
       "      <td>7.149030e+08</td>\n",
       "      <td>1.099197e+09</td>\n",
       "      <td>3.842944e+08</td>\n",
       "      <td>1.114454e+07</td>\n",
       "    </tr>\n",
       "    <tr>\n",
       "      <th>November</th>\n",
       "      <td>1.532278e+08</td>\n",
       "      <td>2.763119e+08</td>\n",
       "      <td>1.230841e+08</td>\n",
       "      <td>3.569438e+06</td>\n",
       "    </tr>\n",
       "    <tr>\n",
       "      <th>October</th>\n",
       "      <td>3.140993e+07</td>\n",
       "      <td>6.027830e+07</td>\n",
       "      <td>2.886837e+07</td>\n",
       "      <td>8.371827e+05</td>\n",
       "    </tr>\n",
       "    <tr>\n",
       "      <th>September</th>\n",
       "      <td>3.195551e+07</td>\n",
       "      <td>7.530449e+07</td>\n",
       "      <td>4.334898e+07</td>\n",
       "      <td>1.257121e+06</td>\n",
       "    </tr>\n",
       "    <tr>\n",
       "      <th rowspan=\"12\" valign=\"top\">2006</th>\n",
       "      <th>April</th>\n",
       "      <td>3.229722e+08</td>\n",
       "      <td>6.093666e+08</td>\n",
       "      <td>2.863944e+08</td>\n",
       "      <td>8.305437e+06</td>\n",
       "    </tr>\n",
       "    <tr>\n",
       "      <th>August</th>\n",
       "      <td>5.849630e+07</td>\n",
       "      <td>7.167032e+07</td>\n",
       "      <td>1.317402e+07</td>\n",
       "      <td>3.820465e+05</td>\n",
       "    </tr>\n",
       "    <tr>\n",
       "      <th>December</th>\n",
       "      <td>4.585222e+07</td>\n",
       "      <td>7.087702e+07</td>\n",
       "      <td>2.502480e+07</td>\n",
       "      <td>7.257193e+05</td>\n",
       "    </tr>\n",
       "    <tr>\n",
       "      <th>February</th>\n",
       "      <td>1.654843e+08</td>\n",
       "      <td>2.903280e+08</td>\n",
       "      <td>1.248436e+08</td>\n",
       "      <td>3.620465e+06</td>\n",
       "    </tr>\n",
       "    <tr>\n",
       "      <th>January</th>\n",
       "      <td>5.127574e+07</td>\n",
       "      <td>8.974491e+07</td>\n",
       "      <td>3.846917e+07</td>\n",
       "      <td>1.115606e+06</td>\n",
       "    </tr>\n",
       "    <tr>\n",
       "      <th>July</th>\n",
       "      <td>1.444093e+08</td>\n",
       "      <td>2.245720e+08</td>\n",
       "      <td>8.016271e+07</td>\n",
       "      <td>2.324719e+06</td>\n",
       "    </tr>\n",
       "    <tr>\n",
       "      <th>June</th>\n",
       "      <td>5.302118e+07</td>\n",
       "      <td>6.914431e+07</td>\n",
       "      <td>1.612313e+07</td>\n",
       "      <td>4.675707e+05</td>\n",
       "    </tr>\n",
       "    <tr>\n",
       "      <th>March</th>\n",
       "      <td>7.393854e+08</td>\n",
       "      <td>1.115725e+09</td>\n",
       "      <td>3.763400e+08</td>\n",
       "      <td>1.091386e+07</td>\n",
       "    </tr>\n",
       "    <tr>\n",
       "      <th>May</th>\n",
       "      <td>3.297954e+08</td>\n",
       "      <td>5.434823e+08</td>\n",
       "      <td>2.136869e+08</td>\n",
       "      <td>6.196920e+06</td>\n",
       "    </tr>\n",
       "    <tr>\n",
       "      <th>November</th>\n",
       "      <td>1.124836e+08</td>\n",
       "      <td>1.355832e+08</td>\n",
       "      <td>2.309955e+07</td>\n",
       "      <td>6.698869e+05</td>\n",
       "    </tr>\n",
       "    <tr>\n",
       "      <th>October</th>\n",
       "      <td>5.285823e+07</td>\n",
       "      <td>7.890924e+07</td>\n",
       "      <td>2.605102e+07</td>\n",
       "      <td>7.554795e+05</td>\n",
       "    </tr>\n",
       "    <tr>\n",
       "      <th>September</th>\n",
       "      <td>5.395681e+07</td>\n",
       "      <td>8.083199e+07</td>\n",
       "      <td>2.687518e+07</td>\n",
       "      <td>7.793803e+05</td>\n",
       "    </tr>\n",
       "  </tbody>\n",
       "</table>\n",
       "</div>"
      ],
      "text/plain": [
       "                  Spend_Amount  Repay_Amount  Monthly Profit  Interest Earned\n",
       "Yearly Monthly                                                               \n",
       "2004   April      1.194516e+08  2.285403e+08    1.090887e+08     3.163572e+06\n",
       "       February   7.613922e+07  1.602419e+08    8.410268e+07     2.438978e+06\n",
       "       January    1.088357e+09  1.699210e+09    6.108525e+08     1.771472e+07\n",
       "       March      5.594171e+07  8.974470e+07    3.380298e+07     9.802865e+05\n",
       "       May        8.800456e+07  1.411594e+08    5.315485e+07     1.541491e+06\n",
       "       November   5.504612e+07  7.860290e+07    2.355678e+07     6.831466e+05\n",
       "       September  5.144278e+07  8.016122e+07    2.871844e+07     8.328349e+05\n",
       "2005   April      9.366405e+07  1.747894e+08    8.112539e+07     2.352636e+06\n",
       "       August     1.361400e+08  2.477449e+08    1.116049e+08     3.236542e+06\n",
       "       December   4.348638e+07  9.944533e+07    5.595895e+07     1.622810e+06\n",
       "       February   5.890557e+08  9.416163e+08    3.525606e+08     1.022426e+07\n",
       "       January    1.324129e+08  1.810333e+08    4.862042e+07     1.409992e+06\n",
       "       July       3.995653e+07  7.997268e+07    4.001615e+07     1.160468e+06\n",
       "       June       1.174019e+08  2.213774e+08    1.039755e+08     3.015290e+06\n",
       "       May        7.149030e+08  1.099197e+09    3.842944e+08     1.114454e+07\n",
       "       November   1.532278e+08  2.763119e+08    1.230841e+08     3.569438e+06\n",
       "       October    3.140993e+07  6.027830e+07    2.886837e+07     8.371827e+05\n",
       "       September  3.195551e+07  7.530449e+07    4.334898e+07     1.257121e+06\n",
       "2006   April      3.229722e+08  6.093666e+08    2.863944e+08     8.305437e+06\n",
       "       August     5.849630e+07  7.167032e+07    1.317402e+07     3.820465e+05\n",
       "       December   4.585222e+07  7.087702e+07    2.502480e+07     7.257193e+05\n",
       "       February   1.654843e+08  2.903280e+08    1.248436e+08     3.620465e+06\n",
       "       January    5.127574e+07  8.974491e+07    3.846917e+07     1.115606e+06\n",
       "       July       1.444093e+08  2.245720e+08    8.016271e+07     2.324719e+06\n",
       "       June       5.302118e+07  6.914431e+07    1.612313e+07     4.675707e+05\n",
       "       March      7.393854e+08  1.115725e+09    3.763400e+08     1.091386e+07\n",
       "       May        3.297954e+08  5.434823e+08    2.136869e+08     6.196920e+06\n",
       "       November   1.124836e+08  1.355832e+08    2.309955e+07     6.698869e+05\n",
       "       October    5.285823e+07  7.890924e+07    2.605102e+07     7.554795e+05\n",
       "       September  5.395681e+07  8.083199e+07    2.687518e+07     7.793803e+05"
      ]
     },
     "execution_count": 62,
     "metadata": {},
     "output_type": "execute_result"
    }
   ],
   "source": [
    "#interest earned is 2.9% of Monthly Profit\n",
    "\n",
    "interest_group['Interest Earned'] = (2.9* interest_group['Monthly Profit'])/100\n",
    "\n",
    "interest_group"
   ]
  },
  {
   "cell_type": "code",
   "execution_count": null,
   "id": "65b6b313",
   "metadata": {},
   "outputs": [],
   "source": []
  },
  {
   "cell_type": "markdown",
   "id": "a7e1dbbd",
   "metadata": {},
   "source": [
    "# f. What are the top 5 product types"
   ]
  },
  {
   "cell_type": "code",
   "execution_count": 63,
   "id": "211c39a7",
   "metadata": {
    "ExecuteTime": {
     "end_time": "2023-07-30T12:56:45.419794Z",
     "start_time": "2023-07-30T12:56:45.387793Z"
    }
   },
   "outputs": [
    {
     "data": {
      "text/plain": [
       "PETRO           200\n",
       "FOOD            160\n",
       "CAMERA          160\n",
       "AIR TICKET      147\n",
       "TRAIN TICKET    132\n",
       "Name: Type, dtype: int64"
      ]
     },
     "execution_count": 63,
     "metadata": {},
     "output_type": "execute_result"
    }
   ],
   "source": [
    "spend['Type'].value_counts().head()"
   ]
  },
  {
   "cell_type": "markdown",
   "id": "41d1ea00",
   "metadata": {},
   "source": [
    "# g. Which city is having maximum spend?"
   ]
  },
  {
   "cell_type": "code",
   "execution_count": 65,
   "id": "d337fc6d",
   "metadata": {
    "ExecuteTime": {
     "end_time": "2023-07-30T12:59:57.477635Z",
     "start_time": "2023-07-30T12:59:57.453631Z"
    }
   },
   "outputs": [
    {
     "data": {
      "text/plain": [
       "City\n",
       "COCHIN        45963513.50\n",
       "CALCUTTA      41108132.30\n",
       "BANGALORE     40461647.02\n",
       "BOMBAY        28603127.38\n",
       "CHENNAI       22128635.65\n",
       "TRIVANDRUM    15337155.87\n",
       "PATNA         15260586.97\n",
       "DELHI         10918286.54\n",
       "Name: Amount, dtype: float64"
      ]
     },
     "execution_count": 65,
     "metadata": {},
     "output_type": "execute_result"
    }
   ],
   "source": [
    "city_spend = customer_spend.groupby(\"City\")[\"Amount\"].sum().sort_values(ascending=False)\n",
    "city_spend"
   ]
  },
  {
   "cell_type": "code",
   "execution_count": null,
   "id": "dddf7bf1",
   "metadata": {},
   "outputs": [],
   "source": []
  },
  {
   "cell_type": "markdown",
   "id": "8e2e24b7",
   "metadata": {},
   "source": [
    "# (h) Which age group is spending more money?"
   ]
  },
  {
   "cell_type": "code",
   "execution_count": 69,
   "id": "36b7a4a1",
   "metadata": {
    "ExecuteTime": {
     "end_time": "2023-07-30T13:07:06.208078Z",
     "start_time": "2023-07-30T13:07:06.184054Z"
    }
   },
   "outputs": [],
   "source": [
    "#creating new column \"Age Group\" with 8 bins between 18 to 88 \n",
    "customer_spend[\"Age Group\"] =  pd.cut(customer_spend[\"Age\"]\n",
    "                                      ,bins=np.arange(18,88,8),labels=[\"18-26\",\"26-34\", \"34-42\" ,\n",
    "                                                                       \"42-50\" ,\"50-58\",\"58-66\",\n",
    "                                                                       \"66-74\",\"74-82\"],include_lowest=True)"
   ]
  },
  {
   "cell_type": "code",
   "execution_count": 70,
   "id": "97cb5406",
   "metadata": {
    "ExecuteTime": {
     "end_time": "2023-07-30T13:07:07.390462Z",
     "start_time": "2023-07-30T13:07:07.358445Z"
    }
   },
   "outputs": [
    {
     "data": {
      "text/plain": [
       "Age Group\n",
       "42-50    53242390.70\n",
       "34-42    38037826.50\n",
       "26-34    30553459.81\n",
       "18-26    25233896.65\n",
       "50-58    22454066.68\n",
       "74-82    19770884.32\n",
       "66-74    17705877.44\n",
       "58-66    12782683.13\n",
       "Name: Amount, dtype: float64"
      ]
     },
     "execution_count": 70,
     "metadata": {},
     "output_type": "execute_result"
    }
   ],
   "source": [
    "age_spend = customer_spend.groupby(\"Age Group\")['Amount'].sum().sort_values(ascending=False)\n",
    "age_spend"
   ]
  },
  {
   "cell_type": "code",
   "execution_count": 71,
   "id": "cf13116e",
   "metadata": {
    "ExecuteTime": {
     "end_time": "2023-07-30T13:09:25.489236Z",
     "start_time": "2023-07-30T13:09:25.473237Z"
    }
   },
   "outputs": [
    {
     "name": "stdout",
     "output_type": "stream",
     "text": [
      "As shown above we can say that age group 42 - 50 is spending more money\n"
     ]
    }
   ],
   "source": [
    "print(\"As shown above we can say that age group 42 - 50 is spending more money\")"
   ]
  },
  {
   "cell_type": "markdown",
   "id": "ef177b54",
   "metadata": {},
   "source": [
    "# (i) Who are the top 10 customers in terms of repayment?"
   ]
  },
  {
   "cell_type": "code",
   "execution_count": null,
   "id": "5a07ad43",
   "metadata": {},
   "outputs": [],
   "source": []
  },
  {
   "cell_type": "code",
   "execution_count": 72,
   "id": "dda5db35",
   "metadata": {
    "ExecuteTime": {
     "end_time": "2023-07-30T13:10:31.467535Z",
     "start_time": "2023-07-30T13:10:31.427513Z"
    }
   },
   "outputs": [
    {
     "data": {
      "text/html": [
       "<div>\n",
       "<style scoped>\n",
       "    .dataframe tbody tr th:only-of-type {\n",
       "        vertical-align: middle;\n",
       "    }\n",
       "\n",
       "    .dataframe tbody tr th {\n",
       "        vertical-align: top;\n",
       "    }\n",
       "\n",
       "    .dataframe thead th {\n",
       "        text-align: right;\n",
       "    }\n",
       "</style>\n",
       "<table border=\"1\" class=\"dataframe\">\n",
       "  <thead>\n",
       "    <tr style=\"text-align: right;\">\n",
       "      <th></th>\n",
       "      <th>Amount</th>\n",
       "    </tr>\n",
       "    <tr>\n",
       "      <th>Customer</th>\n",
       "      <th></th>\n",
       "    </tr>\n",
       "  </thead>\n",
       "  <tbody>\n",
       "    <tr>\n",
       "      <th>A61</th>\n",
       "      <td>10539142.91</td>\n",
       "    </tr>\n",
       "    <tr>\n",
       "      <th>A60</th>\n",
       "      <td>9876290.74</td>\n",
       "    </tr>\n",
       "    <tr>\n",
       "      <th>A13</th>\n",
       "      <td>9572000.66</td>\n",
       "    </tr>\n",
       "    <tr>\n",
       "      <th>A43</th>\n",
       "      <td>8489871.46</td>\n",
       "    </tr>\n",
       "    <tr>\n",
       "      <th>A45</th>\n",
       "      <td>8448334.87</td>\n",
       "    </tr>\n",
       "    <tr>\n",
       "      <th>A12</th>\n",
       "      <td>8334760.16</td>\n",
       "    </tr>\n",
       "    <tr>\n",
       "      <th>A14</th>\n",
       "      <td>7943268.63</td>\n",
       "    </tr>\n",
       "    <tr>\n",
       "      <th>A44</th>\n",
       "      <td>7744730.12</td>\n",
       "    </tr>\n",
       "    <tr>\n",
       "      <th>A39</th>\n",
       "      <td>7622483.30</td>\n",
       "    </tr>\n",
       "    <tr>\n",
       "      <th>A42</th>\n",
       "      <td>7615460.86</td>\n",
       "    </tr>\n",
       "  </tbody>\n",
       "</table>\n",
       "</div>"
      ],
      "text/plain": [
       "               Amount\n",
       "Customer             \n",
       "A61       10539142.91\n",
       "A60        9876290.74\n",
       "A13        9572000.66\n",
       "A43        8489871.46\n",
       "A45        8448334.87\n",
       "A12        8334760.16\n",
       "A14        7943268.63\n",
       "A44        7744730.12\n",
       "A39        7622483.30\n",
       "A42        7615460.86"
      ]
     },
     "execution_count": 72,
     "metadata": {},
     "output_type": "execute_result"
    }
   ],
   "source": [
    "customer_repay.groupby(\"Customer\")[[\"Amount\"]].sum().sort_values(by=\"Amount\",ascending=False).head(10)"
   ]
  },
  {
   "cell_type": "code",
   "execution_count": null,
   "id": "cdf0c7af",
   "metadata": {},
   "outputs": [],
   "source": []
  },
  {
   "cell_type": "markdown",
   "id": "07a92204",
   "metadata": {},
   "source": [
    "# 3. Calculate the city wise spend on each product on yearly basis. Also include a graphical representation for the same"
   ]
  },
  {
   "cell_type": "code",
   "execution_count": 73,
   "id": "f66b5a95",
   "metadata": {
    "ExecuteTime": {
     "end_time": "2023-07-30T13:13:40.001410Z",
     "start_time": "2023-07-30T13:13:39.961384Z"
    }
   },
   "outputs": [
    {
     "data": {
      "text/html": [
       "<div>\n",
       "<style scoped>\n",
       "    .dataframe tbody tr th:only-of-type {\n",
       "        vertical-align: middle;\n",
       "    }\n",
       "\n",
       "    .dataframe tbody tr th {\n",
       "        vertical-align: top;\n",
       "    }\n",
       "\n",
       "    .dataframe thead th {\n",
       "        text-align: right;\n",
       "    }\n",
       "</style>\n",
       "<table border=\"1\" class=\"dataframe\">\n",
       "  <thead>\n",
       "    <tr style=\"text-align: right;\">\n",
       "      <th></th>\n",
       "      <th>Customer</th>\n",
       "      <th>Age</th>\n",
       "      <th>City</th>\n",
       "      <th>Product</th>\n",
       "      <th>Limit</th>\n",
       "      <th>Company</th>\n",
       "      <th>Segment</th>\n",
       "      <th>Month</th>\n",
       "      <th>Type</th>\n",
       "      <th>Amount</th>\n",
       "      <th>Age Group</th>\n",
       "    </tr>\n",
       "  </thead>\n",
       "  <tbody>\n",
       "    <tr>\n",
       "      <th>0</th>\n",
       "      <td>A1</td>\n",
       "      <td>76.0</td>\n",
       "      <td>BANGALORE</td>\n",
       "      <td>Gold</td>\n",
       "      <td>500000.0</td>\n",
       "      <td>C1</td>\n",
       "      <td>Self Employed</td>\n",
       "      <td>12-Jan-04</td>\n",
       "      <td>JEWELLERY</td>\n",
       "      <td>485470.80</td>\n",
       "      <td>74-82</td>\n",
       "    </tr>\n",
       "    <tr>\n",
       "      <th>1</th>\n",
       "      <td>A1</td>\n",
       "      <td>76.0</td>\n",
       "      <td>BANGALORE</td>\n",
       "      <td>Gold</td>\n",
       "      <td>500000.0</td>\n",
       "      <td>C1</td>\n",
       "      <td>Self Employed</td>\n",
       "      <td>3-Jan-04</td>\n",
       "      <td>PETRO</td>\n",
       "      <td>410556.13</td>\n",
       "      <td>74-82</td>\n",
       "    </tr>\n",
       "    <tr>\n",
       "      <th>2</th>\n",
       "      <td>A1</td>\n",
       "      <td>76.0</td>\n",
       "      <td>BANGALORE</td>\n",
       "      <td>Gold</td>\n",
       "      <td>500000.0</td>\n",
       "      <td>C1</td>\n",
       "      <td>Self Employed</td>\n",
       "      <td>15-Jan-04</td>\n",
       "      <td>CLOTHES</td>\n",
       "      <td>23740.46</td>\n",
       "      <td>74-82</td>\n",
       "    </tr>\n",
       "    <tr>\n",
       "      <th>3</th>\n",
       "      <td>A1</td>\n",
       "      <td>76.0</td>\n",
       "      <td>BANGALORE</td>\n",
       "      <td>Gold</td>\n",
       "      <td>500000.0</td>\n",
       "      <td>C1</td>\n",
       "      <td>Self Employed</td>\n",
       "      <td>25-Jan-04</td>\n",
       "      <td>FOOD</td>\n",
       "      <td>484342.47</td>\n",
       "      <td>74-82</td>\n",
       "    </tr>\n",
       "    <tr>\n",
       "      <th>4</th>\n",
       "      <td>A1</td>\n",
       "      <td>76.0</td>\n",
       "      <td>BANGALORE</td>\n",
       "      <td>Gold</td>\n",
       "      <td>500000.0</td>\n",
       "      <td>C1</td>\n",
       "      <td>Self Employed</td>\n",
       "      <td>17-Jan-05</td>\n",
       "      <td>CAMERA</td>\n",
       "      <td>369694.07</td>\n",
       "      <td>74-82</td>\n",
       "    </tr>\n",
       "  </tbody>\n",
       "</table>\n",
       "</div>"
      ],
      "text/plain": [
       "  Customer   Age       City Product     Limit Company        Segment  \\\n",
       "0       A1  76.0  BANGALORE    Gold  500000.0      C1  Self Employed   \n",
       "1       A1  76.0  BANGALORE    Gold  500000.0      C1  Self Employed   \n",
       "2       A1  76.0  BANGALORE    Gold  500000.0      C1  Self Employed   \n",
       "3       A1  76.0  BANGALORE    Gold  500000.0      C1  Self Employed   \n",
       "4       A1  76.0  BANGALORE    Gold  500000.0      C1  Self Employed   \n",
       "\n",
       "       Month       Type     Amount Age Group  \n",
       "0  12-Jan-04  JEWELLERY  485470.80     74-82  \n",
       "1   3-Jan-04      PETRO  410556.13     74-82  \n",
       "2  15-Jan-04    CLOTHES   23740.46     74-82  \n",
       "3  25-Jan-04       FOOD  484342.47     74-82  \n",
       "4  17-Jan-05     CAMERA  369694.07     74-82  "
      ]
     },
     "execution_count": 73,
     "metadata": {},
     "output_type": "execute_result"
    }
   ],
   "source": [
    "customer_spend.head()"
   ]
  },
  {
   "cell_type": "code",
   "execution_count": null,
   "id": "abca20d0",
   "metadata": {},
   "outputs": [],
   "source": []
  },
  {
   "cell_type": "code",
   "execution_count": 77,
   "id": "410fa554",
   "metadata": {
    "ExecuteTime": {
     "end_time": "2023-07-30T13:16:39.146328Z",
     "start_time": "2023-07-30T13:16:39.098290Z"
    }
   },
   "outputs": [],
   "source": [
    "#converting \"Month\" column to date time \n",
    "\n",
    "\n",
    "customer_spend[\"Month\"] = pd.to_datetime(customer_spend[\"Month\"])\n",
    "\n",
    "customer_spend['Year'] = customer_spend['Month'].apply(lambda x:pd.Timestamp.strftime(x,format=\"%Y\"))"
   ]
  },
  {
   "cell_type": "code",
   "execution_count": 80,
   "id": "e8411eb5",
   "metadata": {
    "ExecuteTime": {
     "end_time": "2023-07-30T13:16:58.126627Z",
     "start_time": "2023-07-30T13:16:58.094600Z"
    }
   },
   "outputs": [],
   "source": [
    "customer_spend_pivot = pd.pivot_table(data = customer_spend,index=[\"City\",\"Year\"],\n",
    "                                      columns='Product',aggfunc=\"sum\",values=\"Amount\")\n"
   ]
  },
  {
   "cell_type": "code",
   "execution_count": 81,
   "id": "92edfb93",
   "metadata": {
    "ExecuteTime": {
     "end_time": "2023-07-30T13:16:58.561963Z",
     "start_time": "2023-07-30T13:16:58.529949Z"
    }
   },
   "outputs": [
    {
     "data": {
      "text/html": [
       "<div>\n",
       "<style scoped>\n",
       "    .dataframe tbody tr th:only-of-type {\n",
       "        vertical-align: middle;\n",
       "    }\n",
       "\n",
       "    .dataframe tbody tr th {\n",
       "        vertical-align: top;\n",
       "    }\n",
       "\n",
       "    .dataframe thead th {\n",
       "        text-align: right;\n",
       "    }\n",
       "</style>\n",
       "<table border=\"1\" class=\"dataframe\">\n",
       "  <thead>\n",
       "    <tr style=\"text-align: right;\">\n",
       "      <th></th>\n",
       "      <th>Product</th>\n",
       "      <th>Gold</th>\n",
       "      <th>Platimum</th>\n",
       "      <th>Silver</th>\n",
       "    </tr>\n",
       "    <tr>\n",
       "      <th>City</th>\n",
       "      <th>Year</th>\n",
       "      <th></th>\n",
       "      <th></th>\n",
       "      <th></th>\n",
       "    </tr>\n",
       "  </thead>\n",
       "  <tbody>\n",
       "    <tr>\n",
       "      <th rowspan=\"3\" valign=\"top\">BANGALORE</th>\n",
       "      <th>2004</th>\n",
       "      <td>9289878.54</td>\n",
       "      <td>1112732.30</td>\n",
       "      <td>1291852.58</td>\n",
       "    </tr>\n",
       "    <tr>\n",
       "      <th>2005</th>\n",
       "      <td>12892362.99</td>\n",
       "      <td>912284.97</td>\n",
       "      <td>830612.34</td>\n",
       "    </tr>\n",
       "    <tr>\n",
       "      <th>2006</th>\n",
       "      <td>12030611.09</td>\n",
       "      <td>685831.27</td>\n",
       "      <td>1415480.94</td>\n",
       "    </tr>\n",
       "    <tr>\n",
       "      <th rowspan=\"3\" valign=\"top\">BOMBAY</th>\n",
       "      <th>2004</th>\n",
       "      <td>6987853.53</td>\n",
       "      <td>897264.94</td>\n",
       "      <td>532089.03</td>\n",
       "    </tr>\n",
       "    <tr>\n",
       "      <th>2005</th>\n",
       "      <td>8983018.28</td>\n",
       "      <td>711804.94</td>\n",
       "      <td>508988.54</td>\n",
       "    </tr>\n",
       "    <tr>\n",
       "      <th>2006</th>\n",
       "      <td>7917144.31</td>\n",
       "      <td>972130.01</td>\n",
       "      <td>1092833.80</td>\n",
       "    </tr>\n",
       "    <tr>\n",
       "      <th rowspan=\"3\" valign=\"top\">CALCUTTA</th>\n",
       "      <th>2004</th>\n",
       "      <td>7477140.98</td>\n",
       "      <td>2037690.30</td>\n",
       "      <td>500006.00</td>\n",
       "    </tr>\n",
       "    <tr>\n",
       "      <th>2005</th>\n",
       "      <td>10303355.80</td>\n",
       "      <td>4434696.31</td>\n",
       "      <td>440147.06</td>\n",
       "    </tr>\n",
       "    <tr>\n",
       "      <th>2006</th>\n",
       "      <td>11167532.77</td>\n",
       "      <td>3589606.66</td>\n",
       "      <td>1157956.42</td>\n",
       "    </tr>\n",
       "    <tr>\n",
       "      <th rowspan=\"3\" valign=\"top\">CHENNAI</th>\n",
       "      <th>2004</th>\n",
       "      <td>1059618.50</td>\n",
       "      <td>3535652.38</td>\n",
       "      <td>282056.86</td>\n",
       "    </tr>\n",
       "    <tr>\n",
       "      <th>2005</th>\n",
       "      <td>3740945.58</td>\n",
       "      <td>5053956.32</td>\n",
       "      <td>377184.49</td>\n",
       "    </tr>\n",
       "    <tr>\n",
       "      <th>2006</th>\n",
       "      <td>2704288.62</td>\n",
       "      <td>5024923.40</td>\n",
       "      <td>350009.50</td>\n",
       "    </tr>\n",
       "    <tr>\n",
       "      <th rowspan=\"3\" valign=\"top\">COCHIN</th>\n",
       "      <th>2004</th>\n",
       "      <td>7315850.15</td>\n",
       "      <td>3419904.07</td>\n",
       "      <td>814229.62</td>\n",
       "    </tr>\n",
       "    <tr>\n",
       "      <th>2005</th>\n",
       "      <td>12110613.03</td>\n",
       "      <td>4960921.71</td>\n",
       "      <td>652269.38</td>\n",
       "    </tr>\n",
       "    <tr>\n",
       "      <th>2006</th>\n",
       "      <td>10499142.38</td>\n",
       "      <td>4920592.29</td>\n",
       "      <td>1269990.87</td>\n",
       "    </tr>\n",
       "    <tr>\n",
       "      <th rowspan=\"3\" valign=\"top\">DELHI</th>\n",
       "      <th>2004</th>\n",
       "      <td>2806495.00</td>\n",
       "      <td>283512.89</td>\n",
       "      <td>768172.30</td>\n",
       "    </tr>\n",
       "    <tr>\n",
       "      <th>2005</th>\n",
       "      <td>1964845.27</td>\n",
       "      <td>494157.86</td>\n",
       "      <td>612311.21</td>\n",
       "    </tr>\n",
       "    <tr>\n",
       "      <th>2006</th>\n",
       "      <td>2957103.32</td>\n",
       "      <td>176788.72</td>\n",
       "      <td>854899.97</td>\n",
       "    </tr>\n",
       "    <tr>\n",
       "      <th rowspan=\"3\" valign=\"top\">PATNA</th>\n",
       "      <th>2004</th>\n",
       "      <td>2072567.90</td>\n",
       "      <td>1113069.60</td>\n",
       "      <td>756684.10</td>\n",
       "    </tr>\n",
       "    <tr>\n",
       "      <th>2005</th>\n",
       "      <td>3252615.77</td>\n",
       "      <td>2883231.07</td>\n",
       "      <td>950094.19</td>\n",
       "    </tr>\n",
       "    <tr>\n",
       "      <th>2006</th>\n",
       "      <td>2276181.69</td>\n",
       "      <td>1256137.65</td>\n",
       "      <td>700005.00</td>\n",
       "    </tr>\n",
       "    <tr>\n",
       "      <th rowspan=\"3\" valign=\"top\">TRIVANDRUM</th>\n",
       "      <th>2004</th>\n",
       "      <td>2415102.84</td>\n",
       "      <td>2161676.67</td>\n",
       "      <td>209667.48</td>\n",
       "    </tr>\n",
       "    <tr>\n",
       "      <th>2005</th>\n",
       "      <td>1240375.85</td>\n",
       "      <td>3601443.30</td>\n",
       "      <td>269912.99</td>\n",
       "    </tr>\n",
       "    <tr>\n",
       "      <th>2006</th>\n",
       "      <td>2735710.87</td>\n",
       "      <td>2147403.75</td>\n",
       "      <td>555862.12</td>\n",
       "    </tr>\n",
       "  </tbody>\n",
       "</table>\n",
       "</div>"
      ],
      "text/plain": [
       "Product                 Gold    Platimum      Silver\n",
       "City       Year                                     \n",
       "BANGALORE  2004   9289878.54  1112732.30  1291852.58\n",
       "           2005  12892362.99   912284.97   830612.34\n",
       "           2006  12030611.09   685831.27  1415480.94\n",
       "BOMBAY     2004   6987853.53   897264.94   532089.03\n",
       "           2005   8983018.28   711804.94   508988.54\n",
       "           2006   7917144.31   972130.01  1092833.80\n",
       "CALCUTTA   2004   7477140.98  2037690.30   500006.00\n",
       "           2005  10303355.80  4434696.31   440147.06\n",
       "           2006  11167532.77  3589606.66  1157956.42\n",
       "CHENNAI    2004   1059618.50  3535652.38   282056.86\n",
       "           2005   3740945.58  5053956.32   377184.49\n",
       "           2006   2704288.62  5024923.40   350009.50\n",
       "COCHIN     2004   7315850.15  3419904.07   814229.62\n",
       "           2005  12110613.03  4960921.71   652269.38\n",
       "           2006  10499142.38  4920592.29  1269990.87\n",
       "DELHI      2004   2806495.00   283512.89   768172.30\n",
       "           2005   1964845.27   494157.86   612311.21\n",
       "           2006   2957103.32   176788.72   854899.97\n",
       "PATNA      2004   2072567.90  1113069.60   756684.10\n",
       "           2005   3252615.77  2883231.07   950094.19\n",
       "           2006   2276181.69  1256137.65   700005.00\n",
       "TRIVANDRUM 2004   2415102.84  2161676.67   209667.48\n",
       "           2005   1240375.85  3601443.30   269912.99\n",
       "           2006   2735710.87  2147403.75   555862.12"
      ]
     },
     "execution_count": 81,
     "metadata": {},
     "output_type": "execute_result"
    }
   ],
   "source": [
    "customer_spend_pivot"
   ]
  },
  {
   "cell_type": "code",
   "execution_count": 82,
   "id": "e54f4e89",
   "metadata": {
    "ExecuteTime": {
     "end_time": "2023-07-30T13:17:47.372542Z",
     "start_time": "2023-07-30T13:17:46.156583Z"
    }
   },
   "outputs": [
    {
     "data": {
      "image/png": "[encoded data removed]",
      "text/plain": [
       "<Figure size 640x480 with 1 Axes>"
      ]
     },
     "metadata": {},
     "output_type": "display_data"
    }
   ],
   "source": [
    "customer_spend_pivot.plot(kind='bar',stacked=True)\n",
    "plt.show()"
   ]
  },
  {
   "cell_type": "code",
   "execution_count": null,
   "id": "7e141172",
   "metadata": {},
   "outputs": [],
   "source": []
  },
  {
   "cell_type": "markdown",
   "id": "bc8bd66b",
   "metadata": {},
   "source": [
    "# 4. Create graphs for"
   ]
  },
  {
   "cell_type": "markdown",
   "id": "c6066f67",
   "metadata": {
    "ExecuteTime": {
     "end_time": "2023-07-30T13:19:58.844393Z",
     "start_time": "2023-07-30T13:19:58.820375Z"
    }
   },
   "source": [
    "(a) Monthly comparison of total spends, city wise"
   ]
  },
  {
   "cell_type": "code",
   "execution_count": 84,
   "id": "c50274d8",
   "metadata": {
    "ExecuteTime": {
     "end_time": "2023-07-30T13:21:30.776388Z",
     "start_time": "2023-07-30T13:21:30.744364Z"
    }
   },
   "outputs": [],
   "source": [
    "#creating new column \"Monthly\" \n",
    "customer_spend['Monthly'] = customer_spend['Month'].apply(lambda x:pd.Timestamp.strftime(x,format=\"%B\"))"
   ]
  },
  {
   "cell_type": "code",
   "execution_count": 85,
   "id": "f92fb27e",
   "metadata": {
    "ExecuteTime": {
     "end_time": "2023-07-30T13:22:30.965103Z",
     "start_time": "2023-07-30T13:22:30.885079Z"
    }
   },
   "outputs": [
    {
     "data": {
      "text/html": [
       "<div>\n",
       "<style scoped>\n",
       "    .dataframe tbody tr th:only-of-type {\n",
       "        vertical-align: middle;\n",
       "    }\n",
       "\n",
       "    .dataframe tbody tr th {\n",
       "        vertical-align: top;\n",
       "    }\n",
       "\n",
       "    .dataframe thead th {\n",
       "        text-align: right;\n",
       "    }\n",
       "</style>\n",
       "<table border=\"1\" class=\"dataframe\">\n",
       "  <thead>\n",
       "    <tr style=\"text-align: right;\">\n",
       "      <th>Monthly</th>\n",
       "      <th>April</th>\n",
       "      <th>August</th>\n",
       "      <th>December</th>\n",
       "      <th>February</th>\n",
       "      <th>January</th>\n",
       "      <th>July</th>\n",
       "      <th>June</th>\n",
       "      <th>March</th>\n",
       "      <th>May</th>\n",
       "      <th>November</th>\n",
       "      <th>October</th>\n",
       "      <th>September</th>\n",
       "    </tr>\n",
       "    <tr>\n",
       "      <th>City</th>\n",
       "      <th></th>\n",
       "      <th></th>\n",
       "      <th></th>\n",
       "      <th></th>\n",
       "      <th></th>\n",
       "      <th></th>\n",
       "      <th></th>\n",
       "      <th></th>\n",
       "      <th></th>\n",
       "      <th></th>\n",
       "      <th></th>\n",
       "      <th></th>\n",
       "    </tr>\n",
       "  </thead>\n",
       "  <tbody>\n",
       "    <tr>\n",
       "      <th>BANGALORE</th>\n",
       "      <td>4207980.48</td>\n",
       "      <td>695061.95</td>\n",
       "      <td>422167.24</td>\n",
       "      <td>6734494.76</td>\n",
       "      <td>9041796.84</td>\n",
       "      <td>2228217.69</td>\n",
       "      <td>1330685.90</td>\n",
       "      <td>5362903.07</td>\n",
       "      <td>6383115.13</td>\n",
       "      <td>2260603.07</td>\n",
       "      <td>1091602.61</td>\n",
       "      <td>703018.28</td>\n",
       "    </tr>\n",
       "    <tr>\n",
       "      <th>BOMBAY</th>\n",
       "      <td>1873785.01</td>\n",
       "      <td>1066744.75</td>\n",
       "      <td>140040.71</td>\n",
       "      <td>4276988.30</td>\n",
       "      <td>5948993.33</td>\n",
       "      <td>177726.32</td>\n",
       "      <td>1172594.97</td>\n",
       "      <td>5227850.50</td>\n",
       "      <td>3891945.60</td>\n",
       "      <td>2872049.40</td>\n",
       "      <td>676005.70</td>\n",
       "      <td>1278402.79</td>\n",
       "    </tr>\n",
       "    <tr>\n",
       "      <th>CALCUTTA</th>\n",
       "      <td>3457507.95</td>\n",
       "      <td>1548354.02</td>\n",
       "      <td>55001.50</td>\n",
       "      <td>8150545.61</td>\n",
       "      <td>9064864.90</td>\n",
       "      <td>2234573.27</td>\n",
       "      <td>2293045.81</td>\n",
       "      <td>4939040.04</td>\n",
       "      <td>5578246.87</td>\n",
       "      <td>2078880.93</td>\n",
       "      <td>196357.83</td>\n",
       "      <td>1511713.57</td>\n",
       "    </tr>\n",
       "    <tr>\n",
       "      <th>CHENNAI</th>\n",
       "      <td>2518656.99</td>\n",
       "      <td>305875.97</td>\n",
       "      <td>223628.27</td>\n",
       "      <td>4385815.95</td>\n",
       "      <td>4466961.36</td>\n",
       "      <td>693825.77</td>\n",
       "      <td>1244242.16</td>\n",
       "      <td>3183643.71</td>\n",
       "      <td>2856199.62</td>\n",
       "      <td>1347779.28</td>\n",
       "      <td>156247.17</td>\n",
       "      <td>745759.40</td>\n",
       "    </tr>\n",
       "    <tr>\n",
       "      <th>COCHIN</th>\n",
       "      <td>3882744.94</td>\n",
       "      <td>2317306.61</td>\n",
       "      <td>909533.05</td>\n",
       "      <td>5747886.38</td>\n",
       "      <td>11714373.54</td>\n",
       "      <td>1290897.30</td>\n",
       "      <td>2495745.07</td>\n",
       "      <td>5645146.53</td>\n",
       "      <td>6581085.69</td>\n",
       "      <td>3127999.60</td>\n",
       "      <td>868551.89</td>\n",
       "      <td>1382242.90</td>\n",
       "    </tr>\n",
       "    <tr>\n",
       "      <th>DELHI</th>\n",
       "      <td>777240.75</td>\n",
       "      <td>155402.16</td>\n",
       "      <td>842342.02</td>\n",
       "      <td>1494064.06</td>\n",
       "      <td>2714261.45</td>\n",
       "      <td>50001.50</td>\n",
       "      <td>511276.09</td>\n",
       "      <td>2267149.02</td>\n",
       "      <td>1600322.07</td>\n",
       "      <td>391610.96</td>\n",
       "      <td>64615.46</td>\n",
       "      <td>50001.00</td>\n",
       "    </tr>\n",
       "    <tr>\n",
       "      <th>PATNA</th>\n",
       "      <td>2338179.53</td>\n",
       "      <td>419383.64</td>\n",
       "      <td>50000.00</td>\n",
       "      <td>2353333.55</td>\n",
       "      <td>4916205.55</td>\n",
       "      <td>50000.00</td>\n",
       "      <td>746186.13</td>\n",
       "      <td>1437166.61</td>\n",
       "      <td>2136586.80</td>\n",
       "      <td>413677.87</td>\n",
       "      <td>329537.34</td>\n",
       "      <td>70329.95</td>\n",
       "    </tr>\n",
       "    <tr>\n",
       "      <th>TRIVANDRUM</th>\n",
       "      <td>1199293.45</td>\n",
       "      <td>453773.94</td>\n",
       "      <td>640922.26</td>\n",
       "      <td>2857123.89</td>\n",
       "      <td>3704336.99</td>\n",
       "      <td>260484.50</td>\n",
       "      <td>400336.83</td>\n",
       "      <td>2392316.51</td>\n",
       "      <td>2813534.48</td>\n",
       "      <td>143387.40</td>\n",
       "      <td>285581.92</td>\n",
       "      <td>186063.70</td>\n",
       "    </tr>\n",
       "  </tbody>\n",
       "</table>\n",
       "</div>"
      ],
      "text/plain": [
       "Monthly          April      August   December    February      January  \\\n",
       "City                                                                     \n",
       "BANGALORE   4207980.48   695061.95  422167.24  6734494.76   9041796.84   \n",
       "BOMBAY      1873785.01  1066744.75  140040.71  4276988.30   5948993.33   \n",
       "CALCUTTA    3457507.95  1548354.02   55001.50  8150545.61   9064864.90   \n",
       "CHENNAI     2518656.99   305875.97  223628.27  4385815.95   4466961.36   \n",
       "COCHIN      3882744.94  2317306.61  909533.05  5747886.38  11714373.54   \n",
       "DELHI        777240.75   155402.16  842342.02  1494064.06   2714261.45   \n",
       "PATNA       2338179.53   419383.64   50000.00  2353333.55   4916205.55   \n",
       "TRIVANDRUM  1199293.45   453773.94  640922.26  2857123.89   3704336.99   \n",
       "\n",
       "Monthly           July        June       March         May    November  \\\n",
       "City                                                                     \n",
       "BANGALORE   2228217.69  1330685.90  5362903.07  6383115.13  2260603.07   \n",
       "BOMBAY       177726.32  1172594.97  5227850.50  3891945.60  2872049.40   \n",
       "CALCUTTA    2234573.27  2293045.81  4939040.04  5578246.87  2078880.93   \n",
       "CHENNAI      693825.77  1244242.16  3183643.71  2856199.62  1347779.28   \n",
       "COCHIN      1290897.30  2495745.07  5645146.53  6581085.69  3127999.60   \n",
       "DELHI         50001.50   511276.09  2267149.02  1600322.07   391610.96   \n",
       "PATNA         50000.00   746186.13  1437166.61  2136586.80   413677.87   \n",
       "TRIVANDRUM   260484.50   400336.83  2392316.51  2813534.48   143387.40   \n",
       "\n",
       "Monthly        October   September  \n",
       "City                                \n",
       "BANGALORE   1091602.61   703018.28  \n",
       "BOMBAY       676005.70  1278402.79  \n",
       "CALCUTTA     196357.83  1511713.57  \n",
       "CHENNAI      156247.17   745759.40  \n",
       "COCHIN       868551.89  1382242.90  \n",
       "DELHI         64615.46    50001.00  \n",
       "PATNA        329537.34    70329.95  \n",
       "TRIVANDRUM   285581.92   186063.70  "
      ]
     },
     "execution_count": 85,
     "metadata": {},
     "output_type": "execute_result"
    }
   ],
   "source": [
    "month_city = customer_spend.groupby([\"Monthly\",\"City\"])[[\"Amount\"]].sum().sort_index().reset_index()\n",
    "\n",
    "#creating pivot table based on \"Monthly\" and \"City\" columns\n",
    "\n",
    "month_city =pd.pivot_table(data=customer_spend,values='Amount',index='City',columns='Monthly',aggfunc='sum')\n",
    "\n",
    "month_city"
   ]
  },
  {
   "cell_type": "code",
   "execution_count": 86,
   "id": "415e5417",
   "metadata": {
    "ExecuteTime": {
     "end_time": "2023-07-30T13:24:47.364012Z",
     "start_time": "2023-07-30T13:24:46.559643Z"
    }
   },
   "outputs": [
    {
     "data": {
      "image/png": "[encoded data removed]",
      "text/plain": [
       "<Figure size 640x480 with 1 Axes>"
      ]
     },
     "metadata": {},
     "output_type": "display_data"
    }
   ],
   "source": [
    "month_city.plot(kind='bar',stacked=True)\n",
    "plt.show()"
   ]
  },
  {
   "cell_type": "code",
   "execution_count": null,
   "id": "9eb64071",
   "metadata": {},
   "outputs": [],
   "source": []
  },
  {
   "cell_type": "markdown",
   "id": "e7691ea9",
   "metadata": {},
   "source": [
    "# (b) Comparison of yearly spend on air tickets"
   ]
  },
  {
   "cell_type": "code",
   "execution_count": null,
   "id": "ef794699",
   "metadata": {},
   "outputs": [],
   "source": []
  },
  {
   "cell_type": "code",
   "execution_count": 87,
   "id": "12fe1ba1",
   "metadata": {
    "ExecuteTime": {
     "end_time": "2023-07-30T13:30:16.718987Z",
     "start_time": "2023-07-30T13:30:16.686978Z"
    }
   },
   "outputs": [
    {
     "data": {
      "text/html": [
       "<div>\n",
       "<style scoped>\n",
       "    .dataframe tbody tr th:only-of-type {\n",
       "        vertical-align: middle;\n",
       "    }\n",
       "\n",
       "    .dataframe tbody tr th {\n",
       "        vertical-align: top;\n",
       "    }\n",
       "\n",
       "    .dataframe thead th {\n",
       "        text-align: right;\n",
       "    }\n",
       "</style>\n",
       "<table border=\"1\" class=\"dataframe\">\n",
       "  <thead>\n",
       "    <tr style=\"text-align: right;\">\n",
       "      <th></th>\n",
       "      <th>Year</th>\n",
       "      <th>Type</th>\n",
       "      <th>Amount</th>\n",
       "    </tr>\n",
       "  </thead>\n",
       "  <tbody>\n",
       "    <tr>\n",
       "      <th>0</th>\n",
       "      <td>2004</td>\n",
       "      <td>AIR TICKET</td>\n",
       "      <td>4357225.35</td>\n",
       "    </tr>\n",
       "    <tr>\n",
       "      <th>15</th>\n",
       "      <td>2005</td>\n",
       "      <td>AIR TICKET</td>\n",
       "      <td>10550152.21</td>\n",
       "    </tr>\n",
       "    <tr>\n",
       "      <th>30</th>\n",
       "      <td>2006</td>\n",
       "      <td>AIR TICKET</td>\n",
       "      <td>5248469.56</td>\n",
       "    </tr>\n",
       "  </tbody>\n",
       "</table>\n",
       "</div>"
      ],
      "text/plain": [
       "    Year        Type       Amount\n",
       "0   2004  AIR TICKET   4357225.35\n",
       "15  2005  AIR TICKET  10550152.21\n",
       "30  2006  AIR TICKET   5248469.56"
      ]
     },
     "execution_count": 87,
     "metadata": {},
     "output_type": "execute_result"
    }
   ],
   "source": [
    "air_tickets_spend = customer_spend.groupby([\"Year\",\"Type\"])[[\"Amount\"]].sum().reset_index()\n",
    "filtered = air_tickets_spend.loc[air_tickets_spend[\"Type\"]==\"AIR TICKET\"]\n",
    "filtered"
   ]
  },
  {
   "cell_type": "code",
   "execution_count": 95,
   "id": "94425f77",
   "metadata": {
    "ExecuteTime": {
     "end_time": "2023-07-30T13:36:35.972461Z",
     "start_time": "2023-07-30T13:36:35.457502Z"
    }
   },
   "outputs": [
    {
     "data": {
      "image/png": "[encoded data removed]",
      "text/plain": [
       "<Figure size 640x480 with 1 Axes>"
      ]
     },
     "metadata": {},
     "output_type": "display_data"
    }
   ],
   "source": [
    "plt.bar(filtered[\"Year\"],height=filtered[\"Amount\"],color=\"red\")\n",
    "plt.xlabel(\"Year\")\n",
    "plt.ylabel(\"Amount Spent\")\n",
    "plt.title(\"Comparison of yearly spend on air tickets\")\n",
    "plt.show()"
   ]
  },
  {
   "cell_type": "code",
   "execution_count": null,
   "id": "4990fa07",
   "metadata": {},
   "outputs": [],
   "source": []
  },
  {
   "cell_type": "markdown",
   "id": "4d51ef4e",
   "metadata": {},
   "source": [
    "## c. Comparison of monthly spend for each product (look for any seasonality that exists in terms of spend)"
   ]
  },
  {
   "cell_type": "code",
   "execution_count": null,
   "id": "08ee3324",
   "metadata": {},
   "outputs": [],
   "source": []
  },
  {
   "cell_type": "code",
   "execution_count": 96,
   "id": "d2bcc49c",
   "metadata": {
    "ExecuteTime": {
     "end_time": "2023-07-30T13:40:20.836887Z",
     "start_time": "2023-07-30T13:40:20.780873Z"
    }
   },
   "outputs": [
    {
     "data": {
      "text/html": [
       "<div>\n",
       "<style scoped>\n",
       "    .dataframe tbody tr th:only-of-type {\n",
       "        vertical-align: middle;\n",
       "    }\n",
       "\n",
       "    .dataframe tbody tr th {\n",
       "        vertical-align: top;\n",
       "    }\n",
       "\n",
       "    .dataframe thead th {\n",
       "        text-align: right;\n",
       "    }\n",
       "</style>\n",
       "<table border=\"1\" class=\"dataframe\">\n",
       "  <thead>\n",
       "    <tr style=\"text-align: right;\">\n",
       "      <th>Monthly</th>\n",
       "      <th>April</th>\n",
       "      <th>August</th>\n",
       "      <th>December</th>\n",
       "      <th>February</th>\n",
       "      <th>January</th>\n",
       "      <th>July</th>\n",
       "      <th>June</th>\n",
       "      <th>March</th>\n",
       "      <th>May</th>\n",
       "      <th>November</th>\n",
       "      <th>October</th>\n",
       "      <th>September</th>\n",
       "    </tr>\n",
       "    <tr>\n",
       "      <th>Product</th>\n",
       "      <th></th>\n",
       "      <th></th>\n",
       "      <th></th>\n",
       "      <th></th>\n",
       "      <th></th>\n",
       "      <th></th>\n",
       "      <th></th>\n",
       "      <th></th>\n",
       "      <th></th>\n",
       "      <th></th>\n",
       "      <th></th>\n",
       "      <th></th>\n",
       "    </tr>\n",
       "  </thead>\n",
       "  <tbody>\n",
       "    <tr>\n",
       "      <th>Gold</th>\n",
       "      <td>13170572.59</td>\n",
       "      <td>4954030.42</td>\n",
       "      <td>2332940.96</td>\n",
       "      <td>24779179.55</td>\n",
       "      <td>32413831.83</td>\n",
       "      <td>5167416.37</td>\n",
       "      <td>6538862.64</td>\n",
       "      <td>19256972.48</td>\n",
       "      <td>21548169.76</td>\n",
       "      <td>9203267.46</td>\n",
       "      <td>3018223.38</td>\n",
       "      <td>3816887.62</td>\n",
       "    </tr>\n",
       "    <tr>\n",
       "      <th>Platimum</th>\n",
       "      <td>5182493.86</td>\n",
       "      <td>1714762.80</td>\n",
       "      <td>750156.19</td>\n",
       "      <td>9134054.58</td>\n",
       "      <td>14951578.51</td>\n",
       "      <td>1288156.26</td>\n",
       "      <td>2965712.71</td>\n",
       "      <td>7288837.68</td>\n",
       "      <td>8151926.49</td>\n",
       "      <td>2741618.42</td>\n",
       "      <td>550275.04</td>\n",
       "      <td>1667840.84</td>\n",
       "    </tr>\n",
       "    <tr>\n",
       "      <th>Silver</th>\n",
       "      <td>1902322.65</td>\n",
       "      <td>293109.82</td>\n",
       "      <td>200537.90</td>\n",
       "      <td>2087018.37</td>\n",
       "      <td>4206383.62</td>\n",
       "      <td>530153.72</td>\n",
       "      <td>689537.61</td>\n",
       "      <td>3909405.83</td>\n",
       "      <td>2140940.01</td>\n",
       "      <td>691102.63</td>\n",
       "      <td>100001.50</td>\n",
       "      <td>442803.13</td>\n",
       "    </tr>\n",
       "  </tbody>\n",
       "</table>\n",
       "</div>"
      ],
      "text/plain": [
       "Monthly         April      August    December     February      January  \\\n",
       "Product                                                                   \n",
       "Gold      13170572.59  4954030.42  2332940.96  24779179.55  32413831.83   \n",
       "Platimum   5182493.86  1714762.80   750156.19   9134054.58  14951578.51   \n",
       "Silver     1902322.65   293109.82   200537.90   2087018.37   4206383.62   \n",
       "\n",
       "Monthly         July        June        March          May    November  \\\n",
       "Product                                                                  \n",
       "Gold      5167416.37  6538862.64  19256972.48  21548169.76  9203267.46   \n",
       "Platimum  1288156.26  2965712.71   7288837.68   8151926.49  2741618.42   \n",
       "Silver     530153.72   689537.61   3909405.83   2140940.01   691102.63   \n",
       "\n",
       "Monthly      October   September  \n",
       "Product                           \n",
       "Gold      3018223.38  3816887.62  \n",
       "Platimum   550275.04  1667840.84  \n",
       "Silver     100001.50   442803.13  "
      ]
     },
     "execution_count": 96,
     "metadata": {},
     "output_type": "execute_result"
    }
   ],
   "source": [
    "monthyspend_product = pd.pivot_table(data=customer_spend,index='Product',columns='Monthly',values='Amount',aggfunc='sum')\n",
    "monthyspend_product"
   ]
  },
  {
   "cell_type": "code",
   "execution_count": null,
   "id": "d89e25e2",
   "metadata": {},
   "outputs": [],
   "source": []
  },
  {
   "cell_type": "code",
   "execution_count": 97,
   "id": "45ab5b4a",
   "metadata": {
    "ExecuteTime": {
     "end_time": "2023-07-30T13:40:41.825354Z",
     "start_time": "2023-07-30T13:40:41.225892Z"
    }
   },
   "outputs": [
    {
     "data": {
      "text/plain": [
       "<AxesSubplot:xlabel='Product'>"
      ]
     },
     "execution_count": 97,
     "metadata": {},
     "output_type": "execute_result"
    },
    {
     "data": {
      "image/png": "[encoded data removed]",
      "text/plain": [
       "<Figure size 640x480 with 1 Axes>"
      ]
     },
     "metadata": {},
     "output_type": "display_data"
    }
   ],
   "source": [
    "monthyspend_product.plot(kind='bar')"
   ]
  },
  {
   "cell_type": "code",
   "execution_count": null,
   "id": "fe587529",
   "metadata": {},
   "outputs": [],
   "source": []
  },
  {
   "cell_type": "markdown",
   "id": "6bcba75d",
   "metadata": {},
   "source": [
    "# 5. Write user defined PYTHON function to perform the following analysis:"
   ]
  },
  {
   "cell_type": "markdown",
   "id": "587c4234",
   "metadata": {},
   "source": [
    "You need to find top 10 customers for each city in terms of their repayment amount by different products and by different time periods i.e. year or month. The user should be able to specify the product (Gold/Silver/Platinum) and time period (yearly or monthly) and the function should automatically take these inputs while identifying the top 10 customers."
   ]
  },
  {
   "cell_type": "code",
   "execution_count": null,
   "id": "8bb23e51",
   "metadata": {
    "ExecuteTime": {
     "end_time": "2023-07-30T13:42:38.980864Z",
     "start_time": "2023-07-30T13:42:38.940839Z"
    }
   },
   "outputs": [],
   "source": []
  },
  {
   "cell_type": "code",
   "execution_count": 102,
   "id": "7dba3249",
   "metadata": {
    "ExecuteTime": {
     "end_time": "2023-07-30T13:46:10.217721Z",
     "start_time": "2023-07-30T13:46:10.137708Z"
    }
   },
   "outputs": [],
   "source": [
    "customer_repay['Month'] = pd.to_datetime(customer_repay['Month'])\n",
    "\n",
    "#creating new column \"Monthly\" and \"Yearly\" using already existing 'Month' column\n",
    "\n",
    "customer_repay['Monthly'] = customer_repay['Month'].apply(lambda x:pd.Timestamp.strftime(x,format=\"%B\"))\n",
    "customer_repay['Yearly'] = customer_repay['Month'].apply(lambda x:pd.Timestamp.strftime(x,format=\"%Y\"))"
   ]
  },
  {
   "cell_type": "code",
   "execution_count": 103,
   "id": "4a575644",
   "metadata": {
    "ExecuteTime": {
     "end_time": "2023-07-30T13:47:01.431083Z",
     "start_time": "2023-07-30T13:47:01.415064Z"
    }
   },
   "outputs": [],
   "source": [
    "def top10Customers(product_category,time_period):\n",
    "    return customer_repay.loc[(customer_repay.Product == product_category)].groupby(['Customer','City','Product',time_period]).Amount.sum().reset_index().sort_values('Amount',ascending=False).head(10)"
   ]
  },
  {
   "cell_type": "code",
   "execution_count": 105,
   "id": "f207041d",
   "metadata": {
    "ExecuteTime": {
     "end_time": "2023-07-30T13:48:04.004055Z",
     "start_time": "2023-07-30T13:48:03.956028Z"
    }
   },
   "outputs": [
    {
     "data": {
      "text/html": [
       "<div>\n",
       "<style scoped>\n",
       "    .dataframe tbody tr th:only-of-type {\n",
       "        vertical-align: middle;\n",
       "    }\n",
       "\n",
       "    .dataframe tbody tr th {\n",
       "        vertical-align: top;\n",
       "    }\n",
       "\n",
       "    .dataframe thead th {\n",
       "        text-align: right;\n",
       "    }\n",
       "</style>\n",
       "<table border=\"1\" class=\"dataframe\">\n",
       "  <thead>\n",
       "    <tr style=\"text-align: right;\">\n",
       "      <th></th>\n",
       "      <th>Customer</th>\n",
       "      <th>City</th>\n",
       "      <th>Product</th>\n",
       "      <th>Yearly</th>\n",
       "      <th>Amount</th>\n",
       "    </tr>\n",
       "  </thead>\n",
       "  <tbody>\n",
       "    <tr>\n",
       "      <th>64</th>\n",
       "      <td>A61</td>\n",
       "      <td>COCHIN</td>\n",
       "      <td>Gold</td>\n",
       "      <td>2005</td>\n",
       "      <td>4276860.55</td>\n",
       "    </tr>\n",
       "    <tr>\n",
       "      <th>55</th>\n",
       "      <td>A44</td>\n",
       "      <td>DELHI</td>\n",
       "      <td>Gold</td>\n",
       "      <td>2005</td>\n",
       "      <td>4165317.77</td>\n",
       "    </tr>\n",
       "    <tr>\n",
       "      <th>58</th>\n",
       "      <td>A45</td>\n",
       "      <td>COCHIN</td>\n",
       "      <td>Gold</td>\n",
       "      <td>2005</td>\n",
       "      <td>4042447.57</td>\n",
       "    </tr>\n",
       "    <tr>\n",
       "      <th>52</th>\n",
       "      <td>A43</td>\n",
       "      <td>BANGALORE</td>\n",
       "      <td>Gold</td>\n",
       "      <td>2005</td>\n",
       "      <td>4006956.60</td>\n",
       "    </tr>\n",
       "    <tr>\n",
       "      <th>13</th>\n",
       "      <td>A13</td>\n",
       "      <td>BANGALORE</td>\n",
       "      <td>Gold</td>\n",
       "      <td>2005</td>\n",
       "      <td>3757673.00</td>\n",
       "    </tr>\n",
       "    <tr>\n",
       "      <th>65</th>\n",
       "      <td>A61</td>\n",
       "      <td>COCHIN</td>\n",
       "      <td>Gold</td>\n",
       "      <td>2006</td>\n",
       "      <td>3744127.41</td>\n",
       "    </tr>\n",
       "    <tr>\n",
       "      <th>61</th>\n",
       "      <td>A60</td>\n",
       "      <td>CALCUTTA</td>\n",
       "      <td>Gold</td>\n",
       "      <td>2005</td>\n",
       "      <td>3742856.10</td>\n",
       "    </tr>\n",
       "    <tr>\n",
       "      <th>14</th>\n",
       "      <td>A13</td>\n",
       "      <td>BANGALORE</td>\n",
       "      <td>Gold</td>\n",
       "      <td>2006</td>\n",
       "      <td>3477314.89</td>\n",
       "    </tr>\n",
       "    <tr>\n",
       "      <th>38</th>\n",
       "      <td>A29</td>\n",
       "      <td>CALCUTTA</td>\n",
       "      <td>Gold</td>\n",
       "      <td>2006</td>\n",
       "      <td>3434298.00</td>\n",
       "    </tr>\n",
       "    <tr>\n",
       "      <th>35</th>\n",
       "      <td>A28</td>\n",
       "      <td>TRIVANDRUM</td>\n",
       "      <td>Gold</td>\n",
       "      <td>2006</td>\n",
       "      <td>3376614.65</td>\n",
       "    </tr>\n",
       "  </tbody>\n",
       "</table>\n",
       "</div>"
      ],
      "text/plain": [
       "   Customer        City Product Yearly      Amount\n",
       "64      A61      COCHIN    Gold   2005  4276860.55\n",
       "55      A44       DELHI    Gold   2005  4165317.77\n",
       "58      A45      COCHIN    Gold   2005  4042447.57\n",
       "52      A43   BANGALORE    Gold   2005  4006956.60\n",
       "13      A13   BANGALORE    Gold   2005  3757673.00\n",
       "65      A61      COCHIN    Gold   2006  3744127.41\n",
       "61      A60    CALCUTTA    Gold   2005  3742856.10\n",
       "14      A13   BANGALORE    Gold   2006  3477314.89\n",
       "38      A29    CALCUTTA    Gold   2006  3434298.00\n",
       "35      A28  TRIVANDRUM    Gold   2006  3376614.65"
      ]
     },
     "execution_count": 105,
     "metadata": {},
     "output_type": "execute_result"
    }
   ],
   "source": [
    "top10Customers('Gold','Yearly')"
   ]
  },
  {
   "cell_type": "code",
   "execution_count": null,
   "id": "ec280f20",
   "metadata": {},
   "outputs": [],
   "source": []
  },
  {
   "cell_type": "code",
   "execution_count": null,
   "id": "5ffab6f4",
   "metadata": {},
   "outputs": [],
   "source": []
  },
  {
   "cell_type": "code",
   "execution_count": null,
   "id": "5015deb8",
   "metadata": {},
   "outputs": [],
   "source": []
  },
  {
   "cell_type": "code",
   "execution_count": null,
   "id": "b0667c89",
   "metadata": {},
   "outputs": [],
   "source": []
  }
 ],
 "metadata": {
  "kernelspec": {
   "display_name": "Python 3 (ipykernel)",
   "language": "python",
   "name": "python3"
  },
  "language_info": {
   "codemirror_mode": {
    "name": "ipython",
    "version": 3
   },
   "file_extension": ".py",
   "mimetype": "text/x-python",
   "name": "python",
   "nbconvert_exporter": "python",
   "pygments_lexer": "ipython3",
   "version": "3.9.13"
  }
 },
 "nbformat": 4,
 "nbformat_minor": 5
}
